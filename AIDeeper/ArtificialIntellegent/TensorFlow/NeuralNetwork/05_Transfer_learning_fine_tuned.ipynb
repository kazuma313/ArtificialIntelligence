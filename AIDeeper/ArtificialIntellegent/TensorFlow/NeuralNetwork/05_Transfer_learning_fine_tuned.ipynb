{
  "nbformat": 4,
  "nbformat_minor": 0,
  "metadata": {
    "colab": {
      "provenance": [],
      "gpuType": "T4",
      "authorship_tag": "ABX9TyMKXAMb3PWdPJiqYOE1ZIjR",
      "include_colab_link": true
    },
    "kernelspec": {
      "name": "python3",
      "display_name": "Python 3"
    },
    "language_info": {
      "name": "python"
    },
    "accelerator": "GPU"
  },
  "cells": [
    {
      "cell_type": "markdown",
      "metadata": {
        "id": "view-in-github",
        "colab_type": "text"
      },
      "source": [
        "<a href=\"https://colab.research.google.com/github/kazuma313/everyday_coding/blob/main/StudyDeeper/ArtificialIntellegent/TensorFlow/NeuralNetwork/05_Transfer_learning_fine_tuned.ipynb\" target=\"_parent\"><img src=\"https://colab.research.google.com/assets/colab-badge.svg\" alt=\"Open In Colab\"/></a>"
      ]
    },
    {
      "cell_type": "markdown",
      "source": [
        "# Transfer Learning fine Tuned\n",
        "Mari coba menggunakan metode fine tuned pada transfer learning"
      ],
      "metadata": {
        "id": "lPKHvHvxflDJ"
      }
    },
    {
      "cell_type": "code",
      "execution_count": 1,
      "metadata": {
        "id": "DiwSYMEWdbPk",
        "colab": {
          "base_uri": "https://localhost:8080/"
        },
        "outputId": "899d61d7-d7d7-4329-c107-831cd43cd448"
      },
      "outputs": [
        {
          "output_type": "stream",
          "name": "stdout",
          "text": [
            "2023-10-06 14:49:12.986188\n"
          ]
        }
      ],
      "source": [
        "import datetime\n",
        "print(datetime.datetime.now())"
      ]
    },
    {
      "cell_type": "code",
      "source": [
        "!nvidia-smi"
      ],
      "metadata": {
        "id": "C-alwbCOf_WG",
        "colab": {
          "base_uri": "https://localhost:8080/"
        },
        "outputId": "ce943ef6-60c2-4ac2-f1e8-e4382c011c1e"
      },
      "execution_count": 2,
      "outputs": [
        {
          "output_type": "stream",
          "name": "stdout",
          "text": [
            "Fri Oct  6 14:49:13 2023       \n",
            "+-----------------------------------------------------------------------------+\n",
            "| NVIDIA-SMI 525.105.17   Driver Version: 525.105.17   CUDA Version: 12.0     |\n",
            "|-------------------------------+----------------------+----------------------+\n",
            "| GPU  Name        Persistence-M| Bus-Id        Disp.A | Volatile Uncorr. ECC |\n",
            "| Fan  Temp  Perf  Pwr:Usage/Cap|         Memory-Usage | GPU-Util  Compute M. |\n",
            "|                               |                      |               MIG M. |\n",
            "|===============================+======================+======================|\n",
            "|   0  Tesla T4            Off  | 00000000:00:04.0 Off |                    0 |\n",
            "| N/A   45C    P8     9W /  70W |      0MiB / 15360MiB |      0%      Default |\n",
            "|                               |                      |                  N/A |\n",
            "+-------------------------------+----------------------+----------------------+\n",
            "                                                                               \n",
            "+-----------------------------------------------------------------------------+\n",
            "| Processes:                                                                  |\n",
            "|  GPU   GI   CI        PID   Type   Process name                  GPU Memory |\n",
            "|        ID   ID                                                   Usage      |\n",
            "|=============================================================================|\n",
            "|  No running processes found                                                 |\n",
            "+-----------------------------------------------------------------------------+\n"
          ]
        }
      ]
    },
    {
      "cell_type": "code",
      "source": [
        "!wget https://raw.githubusercontent.com/mrdbourke/tensorflow-deep-learning/main/extras/helper_functions.py\n",
        "\n",
        "from helper_functions import create_tensorboard_callback, plot_loss_curves, unzip_data, walk_through_dir"
      ],
      "metadata": {
        "colab": {
          "base_uri": "https://localhost:8080/"
        },
        "id": "0HI4SzUSxLSA",
        "outputId": "81d52567-a9c9-47df-f210-cf045eda846e"
      },
      "execution_count": 3,
      "outputs": [
        {
          "output_type": "stream",
          "name": "stdout",
          "text": [
            "--2023-10-06 14:49:13--  https://raw.githubusercontent.com/mrdbourke/tensorflow-deep-learning/main/extras/helper_functions.py\n",
            "Resolving raw.githubusercontent.com (raw.githubusercontent.com)... 185.199.110.133, 185.199.109.133, 185.199.111.133, ...\n",
            "Connecting to raw.githubusercontent.com (raw.githubusercontent.com)|185.199.110.133|:443... connected.\n",
            "HTTP request sent, awaiting response... 200 OK\n",
            "Length: 10246 (10K) [text/plain]\n",
            "Saving to: ‘helper_functions.py’\n",
            "\n",
            "helper_functions.py 100%[===================>]  10.01K  --.-KB/s    in 0.001s  \n",
            "\n",
            "2023-10-06 14:49:13 (11.4 MB/s) - ‘helper_functions.py’ saved [10246/10246]\n",
            "\n"
          ]
        }
      ]
    },
    {
      "cell_type": "code",
      "source": [
        "# Get 10% of the data of the 10 classes\n",
        "!wget https://storage.googleapis.com/ztm_tf_course/food_vision/10_food_classes_10_percent.zip\n",
        "\n",
        "unzip_data(\"10_food_classes_10_percent.zip\")"
      ],
      "metadata": {
        "colab": {
          "base_uri": "https://localhost:8080/"
        },
        "id": "OJ-LZRrFxZ8o",
        "outputId": "70452b35-0d20-4e4d-80d6-1328cdb5b7dc"
      },
      "execution_count": 4,
      "outputs": [
        {
          "output_type": "stream",
          "name": "stdout",
          "text": [
            "--2023-10-06 14:49:18--  https://storage.googleapis.com/ztm_tf_course/food_vision/10_food_classes_10_percent.zip\n",
            "Resolving storage.googleapis.com (storage.googleapis.com)... 142.251.170.207, 173.194.174.207, 74.125.23.207, ...\n",
            "Connecting to storage.googleapis.com (storage.googleapis.com)|142.251.170.207|:443... connected.\n",
            "HTTP request sent, awaiting response... 200 OK\n",
            "Length: 168546183 (161M) [application/zip]\n",
            "Saving to: ‘10_food_classes_10_percent.zip’\n",
            "\n",
            "10_food_classes_10_ 100%[===================>] 160.74M  27.5MB/s    in 7.2s    \n",
            "\n",
            "2023-10-06 14:49:25 (22.3 MB/s) - ‘10_food_classes_10_percent.zip’ saved [168546183/168546183]\n",
            "\n"
          ]
        }
      ]
    },
    {
      "cell_type": "code",
      "source": [
        "walk_through_dir(\"10_food_classes_10_percent\")"
      ],
      "metadata": {
        "colab": {
          "base_uri": "https://localhost:8080/"
        },
        "id": "urCalufjxkEw",
        "outputId": "ea97060e-fd4f-4c9c-dace-07a3bc64a538"
      },
      "execution_count": 5,
      "outputs": [
        {
          "output_type": "stream",
          "name": "stdout",
          "text": [
            "There are 2 directories and 0 images in '10_food_classes_10_percent'.\n",
            "There are 10 directories and 0 images in '10_food_classes_10_percent/test'.\n",
            "There are 0 directories and 250 images in '10_food_classes_10_percent/test/sushi'.\n",
            "There are 0 directories and 250 images in '10_food_classes_10_percent/test/hamburger'.\n",
            "There are 0 directories and 250 images in '10_food_classes_10_percent/test/chicken_curry'.\n",
            "There are 0 directories and 250 images in '10_food_classes_10_percent/test/steak'.\n",
            "There are 0 directories and 250 images in '10_food_classes_10_percent/test/ice_cream'.\n",
            "There are 0 directories and 250 images in '10_food_classes_10_percent/test/fried_rice'.\n",
            "There are 0 directories and 250 images in '10_food_classes_10_percent/test/pizza'.\n",
            "There are 0 directories and 250 images in '10_food_classes_10_percent/test/chicken_wings'.\n",
            "There are 0 directories and 250 images in '10_food_classes_10_percent/test/grilled_salmon'.\n",
            "There are 0 directories and 250 images in '10_food_classes_10_percent/test/ramen'.\n",
            "There are 10 directories and 0 images in '10_food_classes_10_percent/train'.\n",
            "There are 0 directories and 75 images in '10_food_classes_10_percent/train/sushi'.\n",
            "There are 0 directories and 75 images in '10_food_classes_10_percent/train/hamburger'.\n",
            "There are 0 directories and 75 images in '10_food_classes_10_percent/train/chicken_curry'.\n",
            "There are 0 directories and 75 images in '10_food_classes_10_percent/train/steak'.\n",
            "There are 0 directories and 75 images in '10_food_classes_10_percent/train/ice_cream'.\n",
            "There are 0 directories and 75 images in '10_food_classes_10_percent/train/fried_rice'.\n",
            "There are 0 directories and 75 images in '10_food_classes_10_percent/train/pizza'.\n",
            "There are 0 directories and 75 images in '10_food_classes_10_percent/train/chicken_wings'.\n",
            "There are 0 directories and 75 images in '10_food_classes_10_percent/train/grilled_salmon'.\n",
            "There are 0 directories and 75 images in '10_food_classes_10_percent/train/ramen'.\n"
          ]
        }
      ]
    },
    {
      "cell_type": "code",
      "source": [
        "train_dir= \"10_food_classes_10_percent/train/\"\n",
        "test_dir= \"10_food_classes_10_percent/test/\""
      ],
      "metadata": {
        "id": "NNx6SxHUxmmu"
      },
      "execution_count": 6,
      "outputs": []
    },
    {
      "cell_type": "code",
      "source": [
        "import tensorflow as tf\n"
      ],
      "metadata": {
        "id": "7CRCLPMxxpNM"
      },
      "execution_count": 7,
      "outputs": []
    },
    {
      "cell_type": "code",
      "source": [
        "image_size= (244, 244)"
      ],
      "metadata": {
        "id": "NI06AcfByEfA"
      },
      "execution_count": 8,
      "outputs": []
    },
    {
      "cell_type": "code",
      "source": [
        "train_data_10_percent= tf.keras.preprocessing.image_dataset_from_directory(directory= train_dir,\n",
        "                                                                           image_size= image_size,\n",
        "                                                                           label_mode= \"categorical\",\n",
        "                                                                           batch_size= 32)\n",
        "\n",
        "test_data_10_percent= tf.keras.preprocessing.image_dataset_from_directory(directory= test_dir,\n",
        "                                                                          image_size= image_size,\n",
        "                                                                          label_mode= \"categorical\",\n",
        "                                                                          batch_size = 32)"
      ],
      "metadata": {
        "colab": {
          "base_uri": "https://localhost:8080/"
        },
        "id": "zvmSPicRyIIp",
        "outputId": "0f0d9321-8baa-4bcd-843b-e09d7cb34459"
      },
      "execution_count": 9,
      "outputs": [
        {
          "output_type": "stream",
          "name": "stdout",
          "text": [
            "Found 750 files belonging to 10 classes.\n",
            "Found 2500 files belonging to 10 classes.\n"
          ]
        }
      ]
    },
    {
      "cell_type": "code",
      "source": [
        "train_data_10_percent.class_names"
      ],
      "metadata": {
        "colab": {
          "base_uri": "https://localhost:8080/"
        },
        "id": "e7bisPBGyw2P",
        "outputId": "941f35d2-e0e7-4357-d3ee-85ea62116f45"
      },
      "execution_count": 10,
      "outputs": [
        {
          "output_type": "execute_result",
          "data": {
            "text/plain": [
              "['chicken_curry',\n",
              " 'chicken_wings',\n",
              " 'fried_rice',\n",
              " 'grilled_salmon',\n",
              " 'hamburger',\n",
              " 'ice_cream',\n",
              " 'pizza',\n",
              " 'ramen',\n",
              " 'steak',\n",
              " 'sushi']"
            ]
          },
          "metadata": {},
          "execution_count": 10
        }
      ]
    },
    {
      "cell_type": "code",
      "source": [
        "for image, label in train_data_10_percent.take(1): # ambil batch 1\n",
        "  print(image, label)\n",
        ""
      ],
      "metadata": {
        "colab": {
          "base_uri": "https://localhost:8080/"
        },
        "id": "xDeMzs_iy7jh",
        "outputId": "13bd84ef-6890-497c-d3e1-dff14ca19f5c"
      },
      "execution_count": 11,
      "outputs": [
        {
          "output_type": "stream",
          "name": "stdout",
          "text": [
            "tf.Tensor(\n",
            "[[[[237.72763    204.72763    161.72763   ]\n",
            "   [219.46472    186.46472    145.46472   ]\n",
            "   [210.67294    175.67294    137.67294   ]\n",
            "   ...\n",
            "   [228.56581    113.687836   101.79488   ]\n",
            "   [239.8067     143.17526    116.4164    ]\n",
            "   [249.20659    170.4423     134.39148   ]]\n",
            "\n",
            "  [[234.72003    201.72003    158.72003   ]\n",
            "   [220.1519     185.1519     145.1519    ]\n",
            "   [213.92563    175.92563    139.40863   ]\n",
            "   ...\n",
            "   [206.61974     88.1265      77.16015   ]\n",
            "   [210.68596    103.68701     80.74338   ]\n",
            "   [221.75705    124.25009     92.48467   ]]\n",
            "\n",
            "  [[237.61537    202.61537    162.61537   ]\n",
            "   [220.91106    182.91106    145.91106   ]\n",
            "   [213.89558    172.22649    137.78287   ]\n",
            "   ...\n",
            "   [207.03165     83.237465    75.777626  ]\n",
            "   [213.54721     94.86618     76.121635  ]\n",
            "   [225.45813    108.74502     84.80201   ]]\n",
            "\n",
            "  ...\n",
            "\n",
            "  [[  5.434645     5.434645    65.43465   ]\n",
            "   [  7.           7.          67.        ]\n",
            "   [  5.254099     5.254099    65.2541    ]\n",
            "   ...\n",
            "   [253.49188    230.49188    199.49188   ]\n",
            "   [252.74594    229.74594    198.74594   ]\n",
            "   [253.4508     230.4508     199.4508    ]]\n",
            "\n",
            "  [[  5.0983605    5.0983605   65.09836   ]\n",
            "   [  6.647583     6.647583    66.64758   ]\n",
            "   [  4.901682     4.901682    64.90168   ]\n",
            "   ...\n",
            "   [250.73712    227.73712    196.73712   ]\n",
            "   [251.70483    228.70483    197.70483   ]\n",
            "   [253.64435    230.64435    199.64435   ]]\n",
            "\n",
            "  [[  5.7524123    5.7524123   65.75241   ]\n",
            "   [  5.060544     5.060544    65.06055   ]\n",
            "   [  3.5491943    3.5491943   63.549194  ]\n",
            "   ...\n",
            "   [252.8194     229.8194     198.8194    ]\n",
            "   [254.64435    232.09515    201.09515   ]\n",
            "   [254.         231.         200.        ]]]\n",
            "\n",
            "\n",
            " [[[ 64.50168     47.50168     17.50168   ]\n",
            "   [ 55.66709     38.66709     10.667093  ]\n",
            "   [ 48.622753    32.622753     6.6227508 ]\n",
            "   ...\n",
            "   [ 83.70484     74.62261     71.13959   ]\n",
            "   [ 80.96856     75.153206    74.02581   ]\n",
            "   [ 77.08875     74.34599     76.990364  ]]\n",
            "\n",
            "  [[ 63.66709     44.66709     12.667093  ]\n",
            "   [ 55.35246     37.895996     7.895996  ]\n",
            "   [ 49.13236     33.296898     6.8032794 ]\n",
            "   ...\n",
            "   [ 80.64619     73.885666    68.154305  ]\n",
            "   [ 80.751656    76.94275     73.3525    ]\n",
            "   [ 76.193565    74.84111     73.89848   ]]\n",
            "\n",
            "  [[ 65.91763     46.057175    11.565372  ]\n",
            "   [ 68.01397     49.24469     16.24469   ]\n",
            "   [ 61.124966    45.935432    16.04817   ]\n",
            "   ...\n",
            "   [ 82.40302     78.52797     69.72164   ]\n",
            "   [ 77.715454    74.715454    67.89455   ]\n",
            "   [ 77.33609     77.08199     69.95884   ]]\n",
            "\n",
            "  ...\n",
            "\n",
            "  [[161.49188    161.49188    163.49188   ]\n",
            "   [161.65639    161.65639    163.65639   ]\n",
            "   [162.30234    162.30234    164.30234   ]\n",
            "   ...\n",
            "   [122.25406    118.25406    107.25406   ]\n",
            "   [123.64758    119.64758    107.64758   ]\n",
            "   [122.09839    116.09839    104.09839   ]]\n",
            "\n",
            "  [[161.35242    159.35242    162.35242   ]\n",
            "   [160.35242    160.35242    162.35242   ]\n",
            "   [161.35242    161.35242    163.35242   ]\n",
            "   ...\n",
            "   [122.25406    118.25406    107.25406   ]\n",
            "   [127.1242     120.1242     110.1242    ]\n",
            "   [125.25403    118.25403    108.25403   ]]\n",
            "\n",
            "  [[161.09839    159.09839    162.09839   ]\n",
            "   [160.5492     160.5492     162.5492    ]\n",
            "   [160.95883    160.95883    162.95883   ]\n",
            "   ...\n",
            "   [122.88547    118.88547    109.88547   ]\n",
            "   [125.90161    118.90161    110.90161   ]\n",
            "   [126.549194   119.549194   111.549194  ]]]\n",
            "\n",
            "\n",
            " [[[  4.301599     9.7524185    1.6475408 ]\n",
            "   [ 10.040983    15.393442    17.983604  ]\n",
            "   [ 13.745901    20.409634    31.082169  ]\n",
            "   ...\n",
            "   [124.04106     97.54918     91.0573    ]\n",
            "   [123.35242     99.35242     97.35242   ]\n",
            "   [121.34596    100.34596     99.34596   ]]\n",
            "\n",
            "  [[  2.742744     8.193563     1.0983605 ]\n",
            "   [  8.170854    13.06685     15.4287815 ]\n",
            "   [ 12.844261    19.844261    28.37006   ]\n",
            "   ...\n",
            "   [124.32737     97.83549     91.343605  ]\n",
            "   [122.70488     98.70488     95.8662    ]\n",
            "   [122.35246    101.35246    100.35246   ]]\n",
            "\n",
            "  [[  3.606355     6.475813     0.54918027]\n",
            "   [  5.942622    10.1071615   11.697325  ]\n",
            "   [ 11.870868    18.491802    24.870867  ]\n",
            "   ...\n",
            "   [124.98373     98.491844    91.62096   ]\n",
            "   [120.08955     96.08955     92.08955   ]\n",
            "   [119.7049      98.7049      95.7049    ]]\n",
            "\n",
            "  ...\n",
            "\n",
            "  [[ 94.08356     65.42722     61.509453  ]\n",
            "   [ 96.56143     68.57767     64.32361   ]\n",
            "   [ 96.37523     69.45598     64.94786   ]\n",
            "   ...\n",
            "   [193.06454    188.06454    185.06454   ]\n",
            "   [192.1557     187.1557     184.1557    ]\n",
            "   [191.13953    186.13953    183.13953   ]]\n",
            "\n",
            "  [[128.44907    106.69986    100.34744   ]\n",
            "   [135.13544    115.487854   108.487854  ]\n",
            "   [137.6031     117.95552    110.95552   ]\n",
            "   ...\n",
            "   [193.64758    188.64758    185.64758   ]\n",
            "   [193.29517    188.29517    185.29517   ]\n",
            "   [190.84113    185.84113    182.84113   ]]\n",
            "\n",
            "  [[132.94916    115.45399    107.70158   ]\n",
            "   [138.65074    121.65075    113.65075   ]\n",
            "   [146.04083    129.04083    121.04083   ]\n",
            "   ...\n",
            "   [191.29514    186.29514    183.29514   ]\n",
            "   [190.35565    185.35565    182.35565   ]\n",
            "   [189.5492     184.5492     181.5492    ]]]\n",
            "\n",
            "\n",
            " ...\n",
            "\n",
            "\n",
            " [[[ 69.52459     85.52459     85.52459   ]\n",
            "   [ 66.8497      82.8497      82.8497    ]\n",
            "   [ 66.85978     83.72863     83.72863   ]\n",
            "   ...\n",
            "   [ 44.173893    55.173893    58.04273   ]\n",
            "   [ 45.950752    56.81141     58.81141   ]\n",
            "   [ 45.862457    55.862457    57.862457  ]]\n",
            "\n",
            "  [[ 70.13115     86.13115     86.13115   ]\n",
            "   [ 67.54092     83.54092     83.54092   ]\n",
            "   [ 67.07115     83.94        83.94      ]\n",
            "   ...\n",
            "   [ 43.505573    54.505573    57.37441   ]\n",
            "   [ 43.04112     53.901775    55.901775  ]\n",
            "   [ 42.330597    52.330597    54.330597  ]]\n",
            "\n",
            "  [[ 67.49913     83.49913     83.49913   ]\n",
            "   [ 65.81671     81.81671     81.81671   ]\n",
            "   [ 65.88961     82.75846     82.75846   ]\n",
            "   ...\n",
            "   [ 41.311485    52.311485    55.18032   ]\n",
            "   [ 44.41803     55.278687    57.278687  ]\n",
            "   [ 47.713135    57.713135    59.713135  ]]\n",
            "\n",
            "  ...\n",
            "\n",
            "  [[ 79.97395     89.97395     81.97395   ]\n",
            "   [ 86.35558     96.35558     88.35558   ]\n",
            "   [ 88.04122     98.04122     90.04122   ]\n",
            "   ...\n",
            "   [ 98.42189    107.85631    101.553055  ]\n",
            "   [ 99.0708     108.0708     103.0708    ]\n",
            "   [ 99.68929    108.68929    103.68929   ]]\n",
            "\n",
            "  [[ 84.218185    94.218185    86.218185  ]\n",
            "   [ 89.65534     99.65534     91.65534   ]\n",
            "   [ 85.56509     95.56509     87.56509   ]\n",
            "   ...\n",
            "   [ 96.677605   105.37435     97.80877   ]\n",
            "   [ 95.9589     105.9589      97.9589    ]\n",
            "   [103.52183    113.52183    105.52183   ]]\n",
            "\n",
            "  [[ 88.92445     98.92445     90.92445   ]\n",
            "   [ 95.068344   105.068344    97.068344  ]\n",
            "   [ 90.801506   100.801506    92.801506  ]\n",
            "   ...\n",
            "   [101.732124   108.732124   101.732124  ]\n",
            "   [102.60386    110.02189    102.882545  ]\n",
            "   [105.43728    115.43728    107.43728   ]]]\n",
            "\n",
            "\n",
            " [[[ 41.14922     41.14922     78.05086   ]\n",
            "   [ 39.15574     37.99684     71.178444  ]\n",
            "   [ 36.254097    36.          64.876854  ]\n",
            "   ...\n",
            "   [ 76.49188     28.491882    24.491882  ]\n",
            "   [ 72.158875    24.158876    20.158876  ]\n",
            "   [ 74.55568     26.555677    22.555677  ]]\n",
            "\n",
            "  [[ 41.19356     41.54918     74.80012   ]\n",
            "   [ 38.124226    37.124226    68.95338   ]\n",
            "   [ 37.901638    37.81208     64.58896   ]\n",
            "   ...\n",
            "   [ 73.61537     25.615374    21.615374  ]\n",
            "   [ 71.295166    23.295166    19.295166  ]\n",
            "   [ 68.70492     20.704918    16.704918  ]]\n",
            "\n",
            "  [[ 42.901638    42.311275    72.19692   ]\n",
            "   [ 38.517       38.42744     65.73012   ]\n",
            "   [ 38.016396    35.951828    59.03279   ]\n",
            "   ...\n",
            "   [ 74.18946     26.99992     21.379005  ]\n",
            "   [ 75.434555    26.434551    21.434551  ]\n",
            "   [ 74.81183     25.811827    20.811827  ]]\n",
            "\n",
            "  ...\n",
            "\n",
            "  [[233.77087    228.40228    208.23776   ]\n",
            "   [234.3508     228.1056     206.88548   ]\n",
            "   [232.44714    221.50766    201.57216   ]\n",
            "   ...\n",
            "   [ 64.55643     35.064545    24.064547  ]\n",
            "   [ 70.662125    41.170246    30.170246  ]\n",
            "   [ 67.12338     36.13962     25.13962   ]]\n",
            "\n",
            "  [[232.633      220.22333    199.15964   ]\n",
            "   [242.23871    228.24843    206.95326   ]\n",
            "   [237.58463    218.64922    199.26451   ]\n",
            "   ...\n",
            "   [ 57.985455    31.248337    19.722572  ]\n",
            "   [ 63.94275     36.94275     27.942749  ]\n",
            "   [ 65.04437     38.04437     29.044369  ]]\n",
            "\n",
            "  [[206.25018    186.89777    165.34857   ]\n",
            "   [194.43321    171.75104    151.04294   ]\n",
            "   [190.9266     163.5332     144.7299    ]\n",
            "   ...\n",
            "   [ 67.96756     39.96756     27.967562  ]\n",
            "   [ 59.387093    31.38709     20.38709   ]\n",
            "   [ 61.65403     32.65403     24.654032  ]]]\n",
            "\n",
            "\n",
            " [[[192.20325    184.00652    160.20009   ]\n",
            "   [190.97226    173.12483    149.4773    ]\n",
            "   [147.52823    119.1026      95.5858    ]\n",
            "   ...\n",
            "   [198.         224.         249.        ]\n",
            "   [198.         224.         249.        ]\n",
            "   [197.79677    223.79677    248.79677   ]]\n",
            "\n",
            "  [[199.25725    185.56873    159.4357    ]\n",
            "   [182.96211    159.67778    133.03024   ]\n",
            "   [119.35308     85.72194     58.163956  ]\n",
            "   ...\n",
            "   [197.25406    223.25406    248.25406   ]\n",
            "   [198.         224.         249.        ]\n",
            "   [198.         224.         249.        ]]\n",
            "\n",
            "  [[187.67912    164.59717    133.65454   ]\n",
            "   [162.23952    131.66576    101.182755  ]\n",
            "   [138.20619     98.35172     66.859924  ]\n",
            "   ...\n",
            "   [197.         223.         248.        ]\n",
            "   [197.2541     223.2541     248.2541    ]\n",
            "   [196.2541     222.2541     247.2541    ]]\n",
            "\n",
            "  ...\n",
            "\n",
            "  [[173.01617    190.01617    210.01617   ]\n",
            "   [173.4596     190.4596     210.4596    ]\n",
            "   [176.06456    193.06456    213.06456   ]\n",
            "   ...\n",
            "   [141.74594    171.74594    209.74594   ]\n",
            "   [140.6564     169.6564     209.6564    ]\n",
            "   [140.82816    169.82816    209.82816   ]]\n",
            "\n",
            "  [[174.06052    191.06052    211.06052   ]\n",
            "   [174.06683    191.06683    211.06683   ]\n",
            "   [174.99123    191.99123    211.99123   ]\n",
            "   ...\n",
            "   [142.44196    171.44196    211.44196   ]\n",
            "   [142.12419    171.12419    211.12419   ]\n",
            "   [139.25403    168.25403    208.25403   ]]\n",
            "\n",
            "  [[175.35246    192.35246    212.35246   ]\n",
            "   [174.00316    191.00316    211.00316   ]\n",
            "   [173.05739    190.05739    210.05739   ]\n",
            "   ...\n",
            "   [140.23792    169.23792    209.23792   ]\n",
            "   [141.96533    170.96533    210.96533   ]\n",
            "   [143.20323    172.20323    212.20323   ]]]], shape=(32, 244, 244, 3), dtype=float32) tf.Tensor(\n",
            "[[0. 1. 0. 0. 0. 0. 0. 0. 0. 0.]\n",
            " [0. 0. 1. 0. 0. 0. 0. 0. 0. 0.]\n",
            " [0. 0. 0. 0. 1. 0. 0. 0. 0. 0.]\n",
            " [0. 0. 1. 0. 0. 0. 0. 0. 0. 0.]\n",
            " [0. 0. 0. 1. 0. 0. 0. 0. 0. 0.]\n",
            " [0. 0. 0. 0. 0. 0. 1. 0. 0. 0.]\n",
            " [0. 0. 0. 0. 0. 1. 0. 0. 0. 0.]\n",
            " [1. 0. 0. 0. 0. 0. 0. 0. 0. 0.]\n",
            " [0. 0. 0. 1. 0. 0. 0. 0. 0. 0.]\n",
            " [0. 0. 1. 0. 0. 0. 0. 0. 0. 0.]\n",
            " [0. 0. 0. 0. 0. 0. 0. 0. 1. 0.]\n",
            " [0. 0. 0. 0. 0. 0. 0. 0. 1. 0.]\n",
            " [0. 0. 1. 0. 0. 0. 0. 0. 0. 0.]\n",
            " [0. 0. 0. 0. 0. 0. 0. 1. 0. 0.]\n",
            " [0. 0. 1. 0. 0. 0. 0. 0. 0. 0.]\n",
            " [0. 0. 0. 1. 0. 0. 0. 0. 0. 0.]\n",
            " [0. 0. 0. 0. 0. 0. 0. 1. 0. 0.]\n",
            " [0. 0. 0. 1. 0. 0. 0. 0. 0. 0.]\n",
            " [0. 0. 0. 0. 0. 0. 0. 0. 1. 0.]\n",
            " [0. 0. 0. 0. 0. 0. 0. 0. 1. 0.]\n",
            " [0. 0. 0. 0. 0. 1. 0. 0. 0. 0.]\n",
            " [0. 0. 0. 0. 0. 0. 0. 0. 0. 1.]\n",
            " [0. 0. 0. 0. 0. 1. 0. 0. 0. 0.]\n",
            " [0. 0. 1. 0. 0. 0. 0. 0. 0. 0.]\n",
            " [0. 0. 0. 0. 0. 0. 0. 1. 0. 0.]\n",
            " [1. 0. 0. 0. 0. 0. 0. 0. 0. 0.]\n",
            " [0. 0. 0. 0. 0. 0. 0. 1. 0. 0.]\n",
            " [0. 0. 0. 0. 0. 1. 0. 0. 0. 0.]\n",
            " [0. 0. 0. 1. 0. 0. 0. 0. 0. 0.]\n",
            " [0. 0. 0. 0. 0. 1. 0. 0. 0. 0.]\n",
            " [0. 1. 0. 0. 0. 0. 0. 0. 0. 0.]\n",
            " [0. 0. 1. 0. 0. 0. 0. 0. 0. 0.]], shape=(32, 10), dtype=float32)\n"
          ]
        }
      ]
    },
    {
      "cell_type": "markdown",
      "source": [
        "base model"
      ],
      "metadata": {
        "id": "KxFvImBs1pA8"
      }
    },
    {
      "cell_type": "code",
      "source": [
        "from keras.src.layers.attention.multi_head_attention import activation\n",
        "base_model= tf.keras.applications.efficientnet_v2.EfficientNetV2B0(include_top= False)\n",
        "\n",
        "base_model.trainable=False\n",
        "\n",
        "input= tf.keras.layers.Input(shape= (244, 244, 3), name= \"Input_layer\")\n",
        "\n",
        "x= base_model(input)\n",
        "print(x.shape)\n",
        "\n",
        "x= tf.keras.layers.GlobalAveragePooling2D(name= \"global_average_pooling_layer\")(x) # untuk mengecilkan dimensi\n",
        "print(x.shape)\n",
        "\n",
        "output= tf.keras.layers.Dense(10, activation= \"softmax\", name= \"output_layer\")(x)\n",
        "\n",
        "model=  tf.keras.Model(input, output)\n"
      ],
      "metadata": {
        "colab": {
          "base_uri": "https://localhost:8080/"
        },
        "id": "xg3hY5BKzAYe",
        "outputId": "3d5f1e07-c856-43d4-f04e-adaff32ee59b"
      },
      "execution_count": 12,
      "outputs": [
        {
          "output_type": "stream",
          "name": "stdout",
          "text": [
            "Downloading data from https://storage.googleapis.com/tensorflow/keras-applications/efficientnet_v2/efficientnetv2-b0_notop.h5\n",
            "24274472/24274472 [==============================] - 2s 0us/step\n",
            "(None, 8, 8, 1280)\n",
            "(None, 1280)\n"
          ]
        }
      ]
    },
    {
      "cell_type": "code",
      "source": [
        "model.compile(loss= \"categorical_crossentropy\",\n",
        "              optimizer= tf.keras.optimizers.Adam(),\n",
        "              metrics= [\"accuracy\"])"
      ],
      "metadata": {
        "id": "tOT-htb-3D9K"
      },
      "execution_count": 13,
      "outputs": []
    },
    {
      "cell_type": "code",
      "source": [
        "chackpoint_path= \"checkpoint_weight/checkpoint.ckpt\"\n",
        "\n",
        "checkpoint_callback= tf.keras.callbacks.ModelCheckpoint(filepath=chackpoint_path,\n",
        "                                                        save_weights_only=True,\n",
        "                                                        save_best_only=True,\n",
        "                                                        save_freq=\"epoch\",\n",
        "                                                        verbose=1)\n",
        "\n"
      ],
      "metadata": {
        "id": "YQR6JHqpHBVw"
      },
      "execution_count": 14,
      "outputs": []
    },
    {
      "cell_type": "code",
      "source": [
        "history= model.fit(\n",
        "    train_data_10_percent,\n",
        "    epochs= 10,\n",
        "    steps_per_epoch= len(train_data_10_percent),\n",
        "    validation_data= test_data_10_percent,\n",
        "    validation_steps= int(0.2 * len(test_data_10_percent)),\n",
        "    callbacks= [create_tensorboard_callback(\"transfer_learning\", \"10_percent_feature_extraction\"),\n",
        "                checkpoint_callback]\n",
        ")"
      ],
      "metadata": {
        "colab": {
          "base_uri": "https://localhost:8080/"
        },
        "id": "dcZj59WY3j2b",
        "outputId": "56313b80-5ee4-4d16-cccb-3e1bdbe7479d"
      },
      "execution_count": 15,
      "outputs": [
        {
          "output_type": "stream",
          "name": "stdout",
          "text": [
            "Saving TensorBoard log files to: transfer_learning/10_percent_feature_extraction/20231006-144939\n",
            "Epoch 1/10\n",
            "24/24 [==============================] - ETA: 0s - loss: 1.9383 - accuracy: 0.4027\n",
            "Epoch 1: val_loss improved from inf to 1.36988, saving model to checkpoint_weight/checkpoint.ckpt\n",
            "24/24 [==============================] - 23s 279ms/step - loss: 1.9383 - accuracy: 0.4027 - val_loss: 1.3699 - val_accuracy: 0.7042\n",
            "Epoch 2/10\n",
            "23/24 [===========================>..] - ETA: 0s - loss: 1.1873 - accuracy: 0.7554\n",
            "Epoch 2: val_loss improved from 1.36988 to 0.90926, saving model to checkpoint_weight/checkpoint.ckpt\n",
            "24/24 [==============================] - 5s 214ms/step - loss: 1.1830 - accuracy: 0.7560 - val_loss: 0.9093 - val_accuracy: 0.8000\n",
            "Epoch 3/10\n",
            "23/24 [===========================>..] - ETA: 0s - loss: 0.8706 - accuracy: 0.8125\n",
            "Epoch 3: val_loss improved from 0.90926 to 0.68390, saving model to checkpoint_weight/checkpoint.ckpt\n",
            "24/24 [==============================] - 5s 196ms/step - loss: 0.8695 - accuracy: 0.8133 - val_loss: 0.6839 - val_accuracy: 0.8687\n",
            "Epoch 4/10\n",
            "23/24 [===========================>..] - ETA: 0s - loss: 0.7227 - accuracy: 0.8587\n",
            "Epoch 4: val_loss improved from 0.68390 to 0.60069, saving model to checkpoint_weight/checkpoint.ckpt\n",
            "24/24 [==============================] - 5s 200ms/step - loss: 0.7166 - accuracy: 0.8613 - val_loss: 0.6007 - val_accuracy: 0.8646\n",
            "Epoch 5/10\n",
            "23/24 [===========================>..] - ETA: 0s - loss: 0.6067 - accuracy: 0.8750\n",
            "Epoch 5: val_loss improved from 0.60069 to 0.53545, saving model to checkpoint_weight/checkpoint.ckpt\n",
            "24/24 [==============================] - 5s 194ms/step - loss: 0.6119 - accuracy: 0.8707 - val_loss: 0.5354 - val_accuracy: 0.8896\n",
            "Epoch 6/10\n",
            "23/24 [===========================>..] - ETA: 0s - loss: 0.5372 - accuracy: 0.8818\n",
            "Epoch 6: val_loss improved from 0.53545 to 0.50335, saving model to checkpoint_weight/checkpoint.ckpt\n",
            "24/24 [==============================] - 5s 167ms/step - loss: 0.5383 - accuracy: 0.8813 - val_loss: 0.5034 - val_accuracy: 0.8708\n",
            "Epoch 7/10\n",
            "23/24 [===========================>..] - ETA: 0s - loss: 0.5021 - accuracy: 0.8927\n",
            "Epoch 7: val_loss improved from 0.50335 to 0.45199, saving model to checkpoint_weight/checkpoint.ckpt\n",
            "24/24 [==============================] - 5s 196ms/step - loss: 0.4992 - accuracy: 0.8947 - val_loss: 0.4520 - val_accuracy: 0.8958\n",
            "Epoch 8/10\n",
            "23/24 [===========================>..] - ETA: 0s - loss: 0.4481 - accuracy: 0.9117\n",
            "Epoch 8: val_loss improved from 0.45199 to 0.44580, saving model to checkpoint_weight/checkpoint.ckpt\n",
            "24/24 [==============================] - 5s 195ms/step - loss: 0.4466 - accuracy: 0.9120 - val_loss: 0.4458 - val_accuracy: 0.8917\n",
            "Epoch 9/10\n",
            "23/24 [===========================>..] - ETA: 0s - loss: 0.4140 - accuracy: 0.9062\n",
            "Epoch 9: val_loss improved from 0.44580 to 0.40385, saving model to checkpoint_weight/checkpoint.ckpt\n",
            "24/24 [==============================] - 5s 195ms/step - loss: 0.4148 - accuracy: 0.9053 - val_loss: 0.4039 - val_accuracy: 0.9125\n",
            "Epoch 10/10\n",
            "23/24 [===========================>..] - ETA: 0s - loss: 0.3797 - accuracy: 0.9239\n",
            "Epoch 10: val_loss improved from 0.40385 to 0.40279, saving model to checkpoint_weight/checkpoint.ckpt\n",
            "24/24 [==============================] - 5s 202ms/step - loss: 0.3773 - accuracy: 0.9253 - val_loss: 0.4028 - val_accuracy: 0.9042\n"
          ]
        }
      ]
    },
    {
      "cell_type": "code",
      "source": [
        "model.evaluate(test_data_10_percent)"
      ],
      "metadata": {
        "colab": {
          "base_uri": "https://localhost:8080/"
        },
        "id": "XiUjyEqb4Tiu",
        "outputId": "198e1323-bed2-43a8-9d20-0b89b789a1ab"
      },
      "execution_count": 16,
      "outputs": [
        {
          "output_type": "stream",
          "name": "stdout",
          "text": [
            "79/79 [==============================] - 7s 74ms/step - loss: 0.4472 - accuracy: 0.8772\n"
          ]
        },
        {
          "output_type": "execute_result",
          "data": {
            "text/plain": [
              "[0.44724297523498535, 0.8772000074386597]"
            ]
          },
          "metadata": {},
          "execution_count": 16
        }
      ]
    },
    {
      "cell_type": "code",
      "source": [
        "plot_loss_curves(history)"
      ],
      "metadata": {
        "colab": {
          "base_uri": "https://localhost:8080/",
          "height": 927
        },
        "id": "h1yuRadgFfGx",
        "outputId": "bb9bc4db-4249-44c5-9053-7ee1e25e218c"
      },
      "execution_count": 17,
      "outputs": [
        {
          "output_type": "display_data",
          "data": {
            "text/plain": [
              "<Figure size 640x480 with 1 Axes>"
            ],
            "image/png": "[encoded data removed]"
          },
          "metadata": {}
        },
        {
          "output_type": "display_data",
          "data": {
            "text/plain": [
              "<Figure size 640x480 with 1 Axes>"
            ],
            "image/png": "[encoded data removed]"
          },
          "metadata": {}
        }
      ]
    },
    {
      "cell_type": "code",
      "source": [
        "model.load_weights(chackpoint_path)\n",
        "model.evaluate(test_data_10_percent)"
      ],
      "metadata": {
        "colab": {
          "base_uri": "https://localhost:8080/"
        },
        "id": "kGDz2FKCKFRQ",
        "outputId": "75b63375-4e4f-49c1-adaf-288634462c02"
      },
      "execution_count": 18,
      "outputs": [
        {
          "output_type": "stream",
          "name": "stdout",
          "text": [
            "79/79 [==============================] - 6s 71ms/step - loss: 0.4472 - accuracy: 0.8772\n"
          ]
        },
        {
          "output_type": "execute_result",
          "data": {
            "text/plain": [
              "[0.44724297523498535, 0.8772000074386597]"
            ]
          },
          "metadata": {},
          "execution_count": 18
        }
      ]
    },
    {
      "cell_type": "markdown",
      "source": [
        "Code diatas menggunakan feature extraction dan menggunakan model checkpoint untuk menyimpan weight terbaik dari setiap pelatihan model. menggunakan checkpoint dapat load model sama dengan model yang sebelumnya tidak diload."
      ],
      "metadata": {
        "id": "yCVwegcnNbIS"
      }
    },
    {
      "cell_type": "markdown",
      "source": [
        "## Fine-Tunning\n",
        "Menggunakan fine-tunning melakukan unfreezing layer diakhir. Dapat unfreeze 10 layer trakhir atau 5 trakhir. melakukan unfreeze ini tidak ada ukurannya. Yang terbaik akan didapatkan melalui experiment.\n",
        "![](https://raw.githubusercontent.com/mrdbourke/tensorflow-deep-learning/main/images/05-fine-tuning-an-efficientnet-model.png)"
      ],
      "metadata": {
        "id": "mcMUDBOzM7TB"
      }
    },
    {
      "cell_type": "code",
      "source": [
        "model.layers"
      ],
      "metadata": {
        "colab": {
          "base_uri": "https://localhost:8080/"
        },
        "id": "O9AvIfmQM64B",
        "outputId": "742c64ec-7158-4d02-8361-a1c6d6adf3d2"
      },
      "execution_count": 19,
      "outputs": [
        {
          "output_type": "execute_result",
          "data": {
            "text/plain": [
              "[<keras.src.engine.input_layer.InputLayer at 0x7bdaf7d801c0>,\n",
              " <keras.src.engine.functional.Functional at 0x7bdaf4567a30>,\n",
              " <keras.src.layers.pooling.global_average_pooling2d.GlobalAveragePooling2D at 0x7bdaf7927460>,\n",
              " <keras.src.layers.core.dense.Dense at 0x7bdaf457f940>]"
            ]
          },
          "metadata": {},
          "execution_count": 19
        }
      ]
    },
    {
      "cell_type": "code",
      "source": [
        "[[layer.name, layer.trainable] for layer in base_model.layers]"
      ],
      "metadata": {
        "colab": {
          "base_uri": "https://localhost:8080/"
        },
        "id": "GKUrvyCsTHzs",
        "outputId": "6c591f9f-19b9-494f-b532-ba9b633e5208"
      },
      "execution_count": 20,
      "outputs": [
        {
          "output_type": "execute_result",
          "data": {
            "text/plain": [
              "[['input_1', False],\n",
              " ['rescaling', False],\n",
              " ['normalization', False],\n",
              " ['stem_conv', False],\n",
              " ['stem_bn', False],\n",
              " ['stem_activation', False],\n",
              " ['block1a_project_conv', False],\n",
              " ['block1a_project_bn', False],\n",
              " ['block1a_project_activation', False],\n",
              " ['block2a_expand_conv', False],\n",
              " ['block2a_expand_bn', False],\n",
              " ['block2a_expand_activation', False],\n",
              " ['block2a_project_conv', False],\n",
              " ['block2a_project_bn', False],\n",
              " ['block2b_expand_conv', False],\n",
              " ['block2b_expand_bn', False],\n",
              " ['block2b_expand_activation', False],\n",
              " ['block2b_project_conv', False],\n",
              " ['block2b_project_bn', False],\n",
              " ['block2b_drop', False],\n",
              " ['block2b_add', False],\n",
              " ['block3a_expand_conv', False],\n",
              " ['block3a_expand_bn', False],\n",
              " ['block3a_expand_activation', False],\n",
              " ['block3a_project_conv', False],\n",
              " ['block3a_project_bn', False],\n",
              " ['block3b_expand_conv', False],\n",
              " ['block3b_expand_bn', False],\n",
              " ['block3b_expand_activation', False],\n",
              " ['block3b_project_conv', False],\n",
              " ['block3b_project_bn', False],\n",
              " ['block3b_drop', False],\n",
              " ['block3b_add', False],\n",
              " ['block4a_expand_conv', False],\n",
              " ['block4a_expand_bn', False],\n",
              " ['block4a_expand_activation', False],\n",
              " ['block4a_dwconv2', False],\n",
              " ['block4a_bn', False],\n",
              " ['block4a_activation', False],\n",
              " ['block4a_se_squeeze', False],\n",
              " ['block4a_se_reshape', False],\n",
              " ['block4a_se_reduce', False],\n",
              " ['block4a_se_expand', False],\n",
              " ['block4a_se_excite', False],\n",
              " ['block4a_project_conv', False],\n",
              " ['block4a_project_bn', False],\n",
              " ['block4b_expand_conv', False],\n",
              " ['block4b_expand_bn', False],\n",
              " ['block4b_expand_activation', False],\n",
              " ['block4b_dwconv2', False],\n",
              " ['block4b_bn', False],\n",
              " ['block4b_activation', False],\n",
              " ['block4b_se_squeeze', False],\n",
              " ['block4b_se_reshape', False],\n",
              " ['block4b_se_reduce', False],\n",
              " ['block4b_se_expand', False],\n",
              " ['block4b_se_excite', False],\n",
              " ['block4b_project_conv', False],\n",
              " ['block4b_project_bn', False],\n",
              " ['block4b_drop', False],\n",
              " ['block4b_add', False],\n",
              " ['block4c_expand_conv', False],\n",
              " ['block4c_expand_bn', False],\n",
              " ['block4c_expand_activation', False],\n",
              " ['block4c_dwconv2', False],\n",
              " ['block4c_bn', False],\n",
              " ['block4c_activation', False],\n",
              " ['block4c_se_squeeze', False],\n",
              " ['block4c_se_reshape', False],\n",
              " ['block4c_se_reduce', False],\n",
              " ['block4c_se_expand', False],\n",
              " ['block4c_se_excite', False],\n",
              " ['block4c_project_conv', False],\n",
              " ['block4c_project_bn', False],\n",
              " ['block4c_drop', False],\n",
              " ['block4c_add', False],\n",
              " ['block5a_expand_conv', False],\n",
              " ['block5a_expand_bn', False],\n",
              " ['block5a_expand_activation', False],\n",
              " ['block5a_dwconv2', False],\n",
              " ['block5a_bn', False],\n",
              " ['block5a_activation', False],\n",
              " ['block5a_se_squeeze', False],\n",
              " ['block5a_se_reshape', False],\n",
              " ['block5a_se_reduce', False],\n",
              " ['block5a_se_expand', False],\n",
              " ['block5a_se_excite', False],\n",
              " ['block5a_project_conv', False],\n",
              " ['block5a_project_bn', False],\n",
              " ['block5b_expand_conv', False],\n",
              " ['block5b_expand_bn', False],\n",
              " ['block5b_expand_activation', False],\n",
              " ['block5b_dwconv2', False],\n",
              " ['block5b_bn', False],\n",
              " ['block5b_activation', False],\n",
              " ['block5b_se_squeeze', False],\n",
              " ['block5b_se_reshape', False],\n",
              " ['block5b_se_reduce', False],\n",
              " ['block5b_se_expand', False],\n",
              " ['block5b_se_excite', False],\n",
              " ['block5b_project_conv', False],\n",
              " ['block5b_project_bn', False],\n",
              " ['block5b_drop', False],\n",
              " ['block5b_add', False],\n",
              " ['block5c_expand_conv', False],\n",
              " ['block5c_expand_bn', False],\n",
              " ['block5c_expand_activation', False],\n",
              " ['block5c_dwconv2', False],\n",
              " ['block5c_bn', False],\n",
              " ['block5c_activation', False],\n",
              " ['block5c_se_squeeze', False],\n",
              " ['block5c_se_reshape', False],\n",
              " ['block5c_se_reduce', False],\n",
              " ['block5c_se_expand', False],\n",
              " ['block5c_se_excite', False],\n",
              " ['block5c_project_conv', False],\n",
              " ['block5c_project_bn', False],\n",
              " ['block5c_drop', False],\n",
              " ['block5c_add', False],\n",
              " ['block5d_expand_conv', False],\n",
              " ['block5d_expand_bn', False],\n",
              " ['block5d_expand_activation', False],\n",
              " ['block5d_dwconv2', False],\n",
              " ['block5d_bn', False],\n",
              " ['block5d_activation', False],\n",
              " ['block5d_se_squeeze', False],\n",
              " ['block5d_se_reshape', False],\n",
              " ['block5d_se_reduce', False],\n",
              " ['block5d_se_expand', False],\n",
              " ['block5d_se_excite', False],\n",
              " ['block5d_project_conv', False],\n",
              " ['block5d_project_bn', False],\n",
              " ['block5d_drop', False],\n",
              " ['block5d_add', False],\n",
              " ['block5e_expand_conv', False],\n",
              " ['block5e_expand_bn', False],\n",
              " ['block5e_expand_activation', False],\n",
              " ['block5e_dwconv2', False],\n",
              " ['block5e_bn', False],\n",
              " ['block5e_activation', False],\n",
              " ['block5e_se_squeeze', False],\n",
              " ['block5e_se_reshape', False],\n",
              " ['block5e_se_reduce', False],\n",
              " ['block5e_se_expand', False],\n",
              " ['block5e_se_excite', False],\n",
              " ['block5e_project_conv', False],\n",
              " ['block5e_project_bn', False],\n",
              " ['block5e_drop', False],\n",
              " ['block5e_add', False],\n",
              " ['block6a_expand_conv', False],\n",
              " ['block6a_expand_bn', False],\n",
              " ['block6a_expand_activation', False],\n",
              " ['block6a_dwconv2', False],\n",
              " ['block6a_bn', False],\n",
              " ['block6a_activation', False],\n",
              " ['block6a_se_squeeze', False],\n",
              " ['block6a_se_reshape', False],\n",
              " ['block6a_se_reduce', False],\n",
              " ['block6a_se_expand', False],\n",
              " ['block6a_se_excite', False],\n",
              " ['block6a_project_conv', False],\n",
              " ['block6a_project_bn', False],\n",
              " ['block6b_expand_conv', False],\n",
              " ['block6b_expand_bn', False],\n",
              " ['block6b_expand_activation', False],\n",
              " ['block6b_dwconv2', False],\n",
              " ['block6b_bn', False],\n",
              " ['block6b_activation', False],\n",
              " ['block6b_se_squeeze', False],\n",
              " ['block6b_se_reshape', False],\n",
              " ['block6b_se_reduce', False],\n",
              " ['block6b_se_expand', False],\n",
              " ['block6b_se_excite', False],\n",
              " ['block6b_project_conv', False],\n",
              " ['block6b_project_bn', False],\n",
              " ['block6b_drop', False],\n",
              " ['block6b_add', False],\n",
              " ['block6c_expand_conv', False],\n",
              " ['block6c_expand_bn', False],\n",
              " ['block6c_expand_activation', False],\n",
              " ['block6c_dwconv2', False],\n",
              " ['block6c_bn', False],\n",
              " ['block6c_activation', False],\n",
              " ['block6c_se_squeeze', False],\n",
              " ['block6c_se_reshape', False],\n",
              " ['block6c_se_reduce', False],\n",
              " ['block6c_se_expand', False],\n",
              " ['block6c_se_excite', False],\n",
              " ['block6c_project_conv', False],\n",
              " ['block6c_project_bn', False],\n",
              " ['block6c_drop', False],\n",
              " ['block6c_add', False],\n",
              " ['block6d_expand_conv', False],\n",
              " ['block6d_expand_bn', False],\n",
              " ['block6d_expand_activation', False],\n",
              " ['block6d_dwconv2', False],\n",
              " ['block6d_bn', False],\n",
              " ['block6d_activation', False],\n",
              " ['block6d_se_squeeze', False],\n",
              " ['block6d_se_reshape', False],\n",
              " ['block6d_se_reduce', False],\n",
              " ['block6d_se_expand', False],\n",
              " ['block6d_se_excite', False],\n",
              " ['block6d_project_conv', False],\n",
              " ['block6d_project_bn', False],\n",
              " ['block6d_drop', False],\n",
              " ['block6d_add', False],\n",
              " ['block6e_expand_conv', False],\n",
              " ['block6e_expand_bn', False],\n",
              " ['block6e_expand_activation', False],\n",
              " ['block6e_dwconv2', False],\n",
              " ['block6e_bn', False],\n",
              " ['block6e_activation', False],\n",
              " ['block6e_se_squeeze', False],\n",
              " ['block6e_se_reshape', False],\n",
              " ['block6e_se_reduce', False],\n",
              " ['block6e_se_expand', False],\n",
              " ['block6e_se_excite', False],\n",
              " ['block6e_project_conv', False],\n",
              " ['block6e_project_bn', False],\n",
              " ['block6e_drop', False],\n",
              " ['block6e_add', False],\n",
              " ['block6f_expand_conv', False],\n",
              " ['block6f_expand_bn', False],\n",
              " ['block6f_expand_activation', False],\n",
              " ['block6f_dwconv2', False],\n",
              " ['block6f_bn', False],\n",
              " ['block6f_activation', False],\n",
              " ['block6f_se_squeeze', False],\n",
              " ['block6f_se_reshape', False],\n",
              " ['block6f_se_reduce', False],\n",
              " ['block6f_se_expand', False],\n",
              " ['block6f_se_excite', False],\n",
              " ['block6f_project_conv', False],\n",
              " ['block6f_project_bn', False],\n",
              " ['block6f_drop', False],\n",
              " ['block6f_add', False],\n",
              " ['block6g_expand_conv', False],\n",
              " ['block6g_expand_bn', False],\n",
              " ['block6g_expand_activation', False],\n",
              " ['block6g_dwconv2', False],\n",
              " ['block6g_bn', False],\n",
              " ['block6g_activation', False],\n",
              " ['block6g_se_squeeze', False],\n",
              " ['block6g_se_reshape', False],\n",
              " ['block6g_se_reduce', False],\n",
              " ['block6g_se_expand', False],\n",
              " ['block6g_se_excite', False],\n",
              " ['block6g_project_conv', False],\n",
              " ['block6g_project_bn', False],\n",
              " ['block6g_drop', False],\n",
              " ['block6g_add', False],\n",
              " ['block6h_expand_conv', False],\n",
              " ['block6h_expand_bn', False],\n",
              " ['block6h_expand_activation', False],\n",
              " ['block6h_dwconv2', False],\n",
              " ['block6h_bn', False],\n",
              " ['block6h_activation', False],\n",
              " ['block6h_se_squeeze', False],\n",
              " ['block6h_se_reshape', False],\n",
              " ['block6h_se_reduce', False],\n",
              " ['block6h_se_expand', False],\n",
              " ['block6h_se_excite', False],\n",
              " ['block6h_project_conv', False],\n",
              " ['block6h_project_bn', False],\n",
              " ['block6h_drop', False],\n",
              " ['block6h_add', False],\n",
              " ['top_conv', False],\n",
              " ['top_bn', False],\n",
              " ['top_activation', False]]"
            ]
          },
          "metadata": {},
          "execution_count": 20
        }
      ]
    },
    {
      "cell_type": "markdown",
      "source": [
        "semua layer dari model efficientnet trainablenya false, ini menandakan weight pada setiap model freeze. Maru unfreeze 10 layer dari atas."
      ],
      "metadata": {
        "id": "FonTXdj6UHx4"
      }
    },
    {
      "cell_type": "code",
      "source": [
        "base_model.layers[-10:]"
      ],
      "metadata": {
        "colab": {
          "base_uri": "https://localhost:8080/"
        },
        "id": "g2eytf8SXGZ1",
        "outputId": "e731ee6a-3a0d-408f-c116-84e97de2bf97"
      },
      "execution_count": 21,
      "outputs": [
        {
          "output_type": "execute_result",
          "data": {
            "text/plain": [
              "[<keras.src.layers.convolutional.conv2d.Conv2D at 0x7bdaf4543dc0>,\n",
              " <keras.src.layers.convolutional.conv2d.Conv2D at 0x7bdaf4543bb0>,\n",
              " <keras.src.layers.merging.multiply.Multiply at 0x7bdaf4511a80>,\n",
              " <keras.src.layers.convolutional.conv2d.Conv2D at 0x7bdaf4510460>,\n",
              " <keras.src.layers.normalization.batch_normalization.BatchNormalization at 0x7bdaf46c1f90>,\n",
              " <keras.src.layers.regularization.dropout.Dropout at 0x7bdaf4c8b430>,\n",
              " <keras.src.layers.merging.add.Add at 0x7bdaf4c8ba00>,\n",
              " <keras.src.layers.convolutional.conv2d.Conv2D at 0x7bdaf7a855d0>,\n",
              " <keras.src.layers.normalization.batch_normalization.BatchNormalization at 0x7bdaf46e6d40>,\n",
              " <keras.src.layers.core.activation.Activation at 0x7bdaf4d69450>]"
            ]
          },
          "metadata": {},
          "execution_count": 21
        }
      ]
    },
    {
      "cell_type": "code",
      "source": [
        "for layer in base_model.layers[-10:]:\n",
        "  layer.trainable = True"
      ],
      "metadata": {
        "id": "sGz5ymZ8TP_H"
      },
      "execution_count": 22,
      "outputs": []
    },
    {
      "cell_type": "code",
      "source": [
        "for layer in base_model.layers:\n",
        "  print(layer.name, layer.trainable)"
      ],
      "metadata": {
        "colab": {
          "base_uri": "https://localhost:8080/"
        },
        "id": "62YUWEZJUucz",
        "outputId": "653bd60f-422d-4fab-a860-59655fb648bf"
      },
      "execution_count": 23,
      "outputs": [
        {
          "output_type": "stream",
          "name": "stdout",
          "text": [
            "input_1 False\n",
            "rescaling False\n",
            "normalization False\n",
            "stem_conv False\n",
            "stem_bn False\n",
            "stem_activation False\n",
            "block1a_project_conv False\n",
            "block1a_project_bn False\n",
            "block1a_project_activation False\n",
            "block2a_expand_conv False\n",
            "block2a_expand_bn False\n",
            "block2a_expand_activation False\n",
            "block2a_project_conv False\n",
            "block2a_project_bn False\n",
            "block2b_expand_conv False\n",
            "block2b_expand_bn False\n",
            "block2b_expand_activation False\n",
            "block2b_project_conv False\n",
            "block2b_project_bn False\n",
            "block2b_drop False\n",
            "block2b_add False\n",
            "block3a_expand_conv False\n",
            "block3a_expand_bn False\n",
            "block3a_expand_activation False\n",
            "block3a_project_conv False\n",
            "block3a_project_bn False\n",
            "block3b_expand_conv False\n",
            "block3b_expand_bn False\n",
            "block3b_expand_activation False\n",
            "block3b_project_conv False\n",
            "block3b_project_bn False\n",
            "block3b_drop False\n",
            "block3b_add False\n",
            "block4a_expand_conv False\n",
            "block4a_expand_bn False\n",
            "block4a_expand_activation False\n",
            "block4a_dwconv2 False\n",
            "block4a_bn False\n",
            "block4a_activation False\n",
            "block4a_se_squeeze False\n",
            "block4a_se_reshape False\n",
            "block4a_se_reduce False\n",
            "block4a_se_expand False\n",
            "block4a_se_excite False\n",
            "block4a_project_conv False\n",
            "block4a_project_bn False\n",
            "block4b_expand_conv False\n",
            "block4b_expand_bn False\n",
            "block4b_expand_activation False\n",
            "block4b_dwconv2 False\n",
            "block4b_bn False\n",
            "block4b_activation False\n",
            "block4b_se_squeeze False\n",
            "block4b_se_reshape False\n",
            "block4b_se_reduce False\n",
            "block4b_se_expand False\n",
            "block4b_se_excite False\n",
            "block4b_project_conv False\n",
            "block4b_project_bn False\n",
            "block4b_drop False\n",
            "block4b_add False\n",
            "block4c_expand_conv False\n",
            "block4c_expand_bn False\n",
            "block4c_expand_activation False\n",
            "block4c_dwconv2 False\n",
            "block4c_bn False\n",
            "block4c_activation False\n",
            "block4c_se_squeeze False\n",
            "block4c_se_reshape False\n",
            "block4c_se_reduce False\n",
            "block4c_se_expand False\n",
            "block4c_se_excite False\n",
            "block4c_project_conv False\n",
            "block4c_project_bn False\n",
            "block4c_drop False\n",
            "block4c_add False\n",
            "block5a_expand_conv False\n",
            "block5a_expand_bn False\n",
            "block5a_expand_activation False\n",
            "block5a_dwconv2 False\n",
            "block5a_bn False\n",
            "block5a_activation False\n",
            "block5a_se_squeeze False\n",
            "block5a_se_reshape False\n",
            "block5a_se_reduce False\n",
            "block5a_se_expand False\n",
            "block5a_se_excite False\n",
            "block5a_project_conv False\n",
            "block5a_project_bn False\n",
            "block5b_expand_conv False\n",
            "block5b_expand_bn False\n",
            "block5b_expand_activation False\n",
            "block5b_dwconv2 False\n",
            "block5b_bn False\n",
            "block5b_activation False\n",
            "block5b_se_squeeze False\n",
            "block5b_se_reshape False\n",
            "block5b_se_reduce False\n",
            "block5b_se_expand False\n",
            "block5b_se_excite False\n",
            "block5b_project_conv False\n",
            "block5b_project_bn False\n",
            "block5b_drop False\n",
            "block5b_add False\n",
            "block5c_expand_conv False\n",
            "block5c_expand_bn False\n",
            "block5c_expand_activation False\n",
            "block5c_dwconv2 False\n",
            "block5c_bn False\n",
            "block5c_activation False\n",
            "block5c_se_squeeze False\n",
            "block5c_se_reshape False\n",
            "block5c_se_reduce False\n",
            "block5c_se_expand False\n",
            "block5c_se_excite False\n",
            "block5c_project_conv False\n",
            "block5c_project_bn False\n",
            "block5c_drop False\n",
            "block5c_add False\n",
            "block5d_expand_conv False\n",
            "block5d_expand_bn False\n",
            "block5d_expand_activation False\n",
            "block5d_dwconv2 False\n",
            "block5d_bn False\n",
            "block5d_activation False\n",
            "block5d_se_squeeze False\n",
            "block5d_se_reshape False\n",
            "block5d_se_reduce False\n",
            "block5d_se_expand False\n",
            "block5d_se_excite False\n",
            "block5d_project_conv False\n",
            "block5d_project_bn False\n",
            "block5d_drop False\n",
            "block5d_add False\n",
            "block5e_expand_conv False\n",
            "block5e_expand_bn False\n",
            "block5e_expand_activation False\n",
            "block5e_dwconv2 False\n",
            "block5e_bn False\n",
            "block5e_activation False\n",
            "block5e_se_squeeze False\n",
            "block5e_se_reshape False\n",
            "block5e_se_reduce False\n",
            "block5e_se_expand False\n",
            "block5e_se_excite False\n",
            "block5e_project_conv False\n",
            "block5e_project_bn False\n",
            "block5e_drop False\n",
            "block5e_add False\n",
            "block6a_expand_conv False\n",
            "block6a_expand_bn False\n",
            "block6a_expand_activation False\n",
            "block6a_dwconv2 False\n",
            "block6a_bn False\n",
            "block6a_activation False\n",
            "block6a_se_squeeze False\n",
            "block6a_se_reshape False\n",
            "block6a_se_reduce False\n",
            "block6a_se_expand False\n",
            "block6a_se_excite False\n",
            "block6a_project_conv False\n",
            "block6a_project_bn False\n",
            "block6b_expand_conv False\n",
            "block6b_expand_bn False\n",
            "block6b_expand_activation False\n",
            "block6b_dwconv2 False\n",
            "block6b_bn False\n",
            "block6b_activation False\n",
            "block6b_se_squeeze False\n",
            "block6b_se_reshape False\n",
            "block6b_se_reduce False\n",
            "block6b_se_expand False\n",
            "block6b_se_excite False\n",
            "block6b_project_conv False\n",
            "block6b_project_bn False\n",
            "block6b_drop False\n",
            "block6b_add False\n",
            "block6c_expand_conv False\n",
            "block6c_expand_bn False\n",
            "block6c_expand_activation False\n",
            "block6c_dwconv2 False\n",
            "block6c_bn False\n",
            "block6c_activation False\n",
            "block6c_se_squeeze False\n",
            "block6c_se_reshape False\n",
            "block6c_se_reduce False\n",
            "block6c_se_expand False\n",
            "block6c_se_excite False\n",
            "block6c_project_conv False\n",
            "block6c_project_bn False\n",
            "block6c_drop False\n",
            "block6c_add False\n",
            "block6d_expand_conv False\n",
            "block6d_expand_bn False\n",
            "block6d_expand_activation False\n",
            "block6d_dwconv2 False\n",
            "block6d_bn False\n",
            "block6d_activation False\n",
            "block6d_se_squeeze False\n",
            "block6d_se_reshape False\n",
            "block6d_se_reduce False\n",
            "block6d_se_expand False\n",
            "block6d_se_excite False\n",
            "block6d_project_conv False\n",
            "block6d_project_bn False\n",
            "block6d_drop False\n",
            "block6d_add False\n",
            "block6e_expand_conv False\n",
            "block6e_expand_bn False\n",
            "block6e_expand_activation False\n",
            "block6e_dwconv2 False\n",
            "block6e_bn False\n",
            "block6e_activation False\n",
            "block6e_se_squeeze False\n",
            "block6e_se_reshape False\n",
            "block6e_se_reduce False\n",
            "block6e_se_expand False\n",
            "block6e_se_excite False\n",
            "block6e_project_conv False\n",
            "block6e_project_bn False\n",
            "block6e_drop False\n",
            "block6e_add False\n",
            "block6f_expand_conv False\n",
            "block6f_expand_bn False\n",
            "block6f_expand_activation False\n",
            "block6f_dwconv2 False\n",
            "block6f_bn False\n",
            "block6f_activation False\n",
            "block6f_se_squeeze False\n",
            "block6f_se_reshape False\n",
            "block6f_se_reduce False\n",
            "block6f_se_expand False\n",
            "block6f_se_excite False\n",
            "block6f_project_conv False\n",
            "block6f_project_bn False\n",
            "block6f_drop False\n",
            "block6f_add False\n",
            "block6g_expand_conv False\n",
            "block6g_expand_bn False\n",
            "block6g_expand_activation False\n",
            "block6g_dwconv2 False\n",
            "block6g_bn False\n",
            "block6g_activation False\n",
            "block6g_se_squeeze False\n",
            "block6g_se_reshape False\n",
            "block6g_se_reduce False\n",
            "block6g_se_expand False\n",
            "block6g_se_excite False\n",
            "block6g_project_conv False\n",
            "block6g_project_bn False\n",
            "block6g_drop False\n",
            "block6g_add False\n",
            "block6h_expand_conv False\n",
            "block6h_expand_bn False\n",
            "block6h_expand_activation False\n",
            "block6h_dwconv2 False\n",
            "block6h_bn False\n",
            "block6h_activation False\n",
            "block6h_se_squeeze False\n",
            "block6h_se_reshape False\n",
            "block6h_se_reduce True\n",
            "block6h_se_expand True\n",
            "block6h_se_excite True\n",
            "block6h_project_conv True\n",
            "block6h_project_bn True\n",
            "block6h_drop True\n",
            "block6h_add True\n",
            "top_conv True\n",
            "top_bn True\n",
            "top_activation True\n"
          ]
        }
      ]
    },
    {
      "cell_type": "code",
      "source": [
        "model.compile(loss= \"categorical_crossentropy\",\n",
        "              optimizer= tf.keras.optimizers.Adam(0.0001), # perkecil learning rate karena akan mengupdate weight yang telah ada\n",
        "              metrics= [\"accuracy\"])"
      ],
      "metadata": {
        "id": "ZAe7Qh3GXbcL"
      },
      "execution_count": 29,
      "outputs": []
    },
    {
      "cell_type": "code",
      "source": [
        "history.epoch[-1]"
      ],
      "metadata": {
        "colab": {
          "base_uri": "https://localhost:8080/"
        },
        "id": "FG6j1ZwTZiIf",
        "outputId": "305aa6f8-51e9-420d-c82b-17b790c92803"
      },
      "execution_count": 30,
      "outputs": [
        {
          "output_type": "execute_result",
          "data": {
            "text/plain": [
              "9"
            ]
          },
          "metadata": {},
          "execution_count": 30
        }
      ]
    },
    {
      "cell_type": "code",
      "source": [
        "history2= model.fit(train_data_10_percent,\n",
        "                    epochs= 20,\n",
        "                    steps_per_epoch= len(train_data_10_percent),\n",
        "                    validation_data= test_data_10_percent,\n",
        "                    validation_steps= int(0.5 * len(test_data_10_percent)),\n",
        "                    initial_epoch= history.epoch[-1],\n",
        "                    callbacks= [create_tensorboard_callback(\"transfer_learning\", \"10_percent_fine_tune_last_10\")])"
      ],
      "metadata": {
        "colab": {
          "base_uri": "https://localhost:8080/"
        },
        "id": "Og24xYOQYLiC",
        "outputId": "e63fe6eb-bb34-4e5a-bd7f-93a8c975d7e4"
      },
      "execution_count": 31,
      "outputs": [
        {
          "output_type": "stream",
          "name": "stdout",
          "text": [
            "Saving TensorBoard log files to: transfer_learning/10_percent_fine_tune_last_10/20231006-145333\n",
            "Epoch 10/20\n",
            "24/24 [==============================] - 17s 356ms/step - loss: 0.4950 - accuracy: 0.9147 - val_loss: 0.5167 - val_accuracy: 0.8726\n",
            "Epoch 11/20\n",
            "24/24 [==============================] - 7s 288ms/step - loss: 0.4849 - accuracy: 0.9053 - val_loss: 0.5290 - val_accuracy: 0.8726\n",
            "Epoch 12/20\n",
            "24/24 [==============================] - 5s 215ms/step - loss: 0.4750 - accuracy: 0.9213 - val_loss: 0.5132 - val_accuracy: 0.8782\n",
            "Epoch 13/20\n",
            "24/24 [==============================] - 5s 191ms/step - loss: 0.4540 - accuracy: 0.9253 - val_loss: 0.4926 - val_accuracy: 0.8838\n",
            "Epoch 14/20\n",
            "24/24 [==============================] - 6s 250ms/step - loss: 0.4559 - accuracy: 0.9213 - val_loss: 0.5022 - val_accuracy: 0.8846\n",
            "Epoch 15/20\n",
            "24/24 [==============================] - 7s 287ms/step - loss: 0.4365 - accuracy: 0.9227 - val_loss: 0.4897 - val_accuracy: 0.8854\n",
            "Epoch 16/20\n",
            "24/24 [==============================] - 8s 314ms/step - loss: 0.4352 - accuracy: 0.9227 - val_loss: 0.4865 - val_accuracy: 0.8774\n",
            "Epoch 17/20\n",
            "24/24 [==============================] - 7s 289ms/step - loss: 0.4339 - accuracy: 0.9307 - val_loss: 0.4846 - val_accuracy: 0.8758\n",
            "Epoch 18/20\n",
            "24/24 [==============================] - 7s 288ms/step - loss: 0.4350 - accuracy: 0.9307 - val_loss: 0.4759 - val_accuracy: 0.8750\n",
            "Epoch 19/20\n",
            "24/24 [==============================] - 7s 288ms/step - loss: 0.4155 - accuracy: 0.9320 - val_loss: 0.4665 - val_accuracy: 0.8830\n",
            "Epoch 20/20\n",
            "24/24 [==============================] - 6s 231ms/step - loss: 0.4075 - accuracy: 0.9347 - val_loss: 0.4807 - val_accuracy: 0.8718\n"
          ]
        }
      ]
    },
    {
      "cell_type": "code",
      "source": [
        "import matplotlib.pyplot as plt"
      ],
      "metadata": {
        "id": "6H_n_ZUMfaqu"
      },
      "execution_count": 34,
      "outputs": []
    },
    {
      "cell_type": "code",
      "source": [
        "def compare_historys(original_history, new_history, initial_epochs=5):\n",
        "    \"\"\"\n",
        "    Compares two model history objects.\n",
        "    \"\"\"\n",
        "\n",
        "    # Get original history measurements\n",
        "    acc = original_history.history[\"accuracy\"]\n",
        "    loss = original_history.history[\"loss\"]\n",
        "\n",
        "    print(len(acc))\n",
        "\n",
        "    val_acc = original_history.history[\"val_accuracy\"]\n",
        "    val_loss = original_history.history[\"val_loss\"]\n",
        "\n",
        "    # Combine original history with new history\n",
        "    total_acc = acc + new_history.history[\"accuracy\"]\n",
        "    total_loss = loss + new_history.history[\"loss\"]\n",
        "\n",
        "    total_val_acc = val_acc + new_history.history[\"val_accuracy\"]\n",
        "    total_val_loss = val_loss + new_history.history[\"val_loss\"]\n",
        "\n",
        "    print(len(total_acc))\n",
        "    print(total_acc)\n",
        "\n",
        "    # Make plots\n",
        "    plt.figure(figsize=(8, 8))\n",
        "    plt.subplot(2, 1, 1)\n",
        "    plt.plot(total_acc, label='Training Accuracy')\n",
        "    plt.plot(total_val_acc, label='Validation Accuracy')\n",
        "    plt.plot([initial_epochs-1, initial_epochs-1],\n",
        "              plt.ylim(), label='Start Fine Tuning') # reshift plot around epochs\n",
        "    plt.legend(loc='lower right')\n",
        "    plt.title('Training and Validation Accuracy')\n",
        "\n",
        "    plt.subplot(2, 1, 2)\n",
        "    plt.plot(total_loss, label='Training Loss')\n",
        "    plt.plot(total_val_loss, label='Validation Loss')\n",
        "    plt.plot([initial_epochs-1, initial_epochs-1],\n",
        "              plt.ylim(), label='Start Fine Tuning') # reshift plot around epochs\n",
        "    plt.legend(loc='upper right')\n",
        "    plt.title('Training and Validation Loss')\n",
        "    plt.xlabel('epoch')\n",
        "    plt.show()"
      ],
      "metadata": {
        "id": "Af1lQ-kzefAw"
      },
      "execution_count": 35,
      "outputs": []
    },
    {
      "cell_type": "code",
      "source": [
        "compare_historys(original_history=history,\n",
        "                 new_history=history2,\n",
        "                 initial_epochs=10)"
      ],
      "metadata": {
        "colab": {
          "base_uri": "https://localhost:8080/",
          "height": 790
        },
        "id": "qkMkYL5tfG65",
        "outputId": "a33dc1f4-e9d5-4546-c00c-091aa42d9da4"
      },
      "execution_count": 36,
      "outputs": [
        {
          "output_type": "stream",
          "name": "stdout",
          "text": [
            "10\n",
            "21\n",
            "[0.4026666581630707, 0.7559999823570251, 0.8133333325386047, 0.8613333106040955, 0.8706666827201843, 0.8813333511352539, 0.8946666717529297, 0.9120000004768372, 0.9053333401679993, 0.9253333210945129, 0.9146666526794434, 0.9053333401679993, 0.9213333129882812, 0.9253333210945129, 0.9213333129882812, 0.9226666688919067, 0.9226666688919067, 0.9306666851043701, 0.9306666851043701, 0.9319999814033508, 0.9346666932106018]\n"
          ]
        },
        {
          "output_type": "display_data",
          "data": {
            "text/plain": [
              "<Figure size 800x800 with 2 Axes>"
            ],
            "image/png": "[encoded data removed]"
          },
          "metadata": {}
        }
      ]
    },
    {
      "cell_type": "markdown",
      "source": [
        "terjadinya overfitting. perlu dilakukan experiment lebih lanjut untuk mendapatkan hasil yang maksimal."
      ],
      "metadata": {
        "id": "MkICBd25fkBY"
      }
    },
    {
      "cell_type": "code",
      "source": [
        "StudyDeeper/ArtificialIntellegent/TensorFlow/NeuralNetwork/"
      ],
      "metadata": {
        "id": "uwuD-JtufTdO"
      },
      "execution_count": null,
      "outputs": []
    }
  ]
}