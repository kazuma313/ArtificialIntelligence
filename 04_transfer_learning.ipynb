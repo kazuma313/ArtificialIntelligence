{
  "nbformat": 4,
  "nbformat_minor": 0,
  "metadata": {
    "colab": {
      "provenance": [],
      "toc_visible": true,
      "gpuType": "T4",
      "authorship_tag": "ABX9TyNscV9u9h9nZJq6AbscUlMN"
    },
    "kernelspec": {
      "name": "python3",
      "display_name": "Python 3"
    },
    "language_info": {
      "name": "python"
    },
    "accelerator": "GPU"
  },
  "cells": [
    {
      "cell_type": "markdown",
      "source": [
        "# Transfer Learning\n",
        "Menggunakan transfer learning untuk menggunakan model yang telah di learn. Sehingga pola yang telah didapat akan digunakan pada kasus sendiri pada data sendiri. menggunakan transfer learning akan mempercepat proses pelatihan.\n",
        "Biasanya dengan menggunakan transfer learning, akan memberikan hasil yang lebih baik."
      ],
      "metadata": {
        "id": "K4OXTqVK1mEK"
      }
    },
    {
      "cell_type": "code",
      "source": [
        "import os\n",
        "import tensorflow as tf\n",
        "import datetime\n",
        "import zipfile\n"
      ],
      "metadata": {
        "id": "Q8Pl_GRY8yws"
      },
      "execution_count": null,
      "outputs": []
    },
    {
      "cell_type": "code",
      "source": [
        "print(\"tanggal :\", datetime.datetime.today())"
      ],
      "metadata": {
        "colab": {
          "base_uri": "https://localhost:8080/"
        },
        "id": "niXwCRmI28YB",
        "outputId": "6f83d298-c313-480f-829c-32f74cba052b"
      },
      "execution_count": null,
      "outputs": [
        {
          "output_type": "stream",
          "name": "stdout",
          "text": [
            "tanggal : 2023-10-04 15:47:12.912535\n"
          ]
        }
      ]
    },
    {
      "cell_type": "markdown",
      "source": [
        "Berikut adalah contoh arisitektur transfer learning menggunakan **`EfficientNet`**.\n",
        "![](https://raw.githubusercontent.com/mrdbourke/tensorflow-deep-learning/main/images/04-transfer-learning-feature-extraction.png)\n",
        "\n",
        "Terlihat bahwasanya output yang telah dilatih berjumlah 1000 dari EfficientNet dan kasus yang ingin di klasifikasi berjumlah 10. Hal ini sangat memungkinkan menggunakan transfer learning."
      ],
      "metadata": {
        "id": "QT3UqgEs3l4a"
      }
    },
    {
      "cell_type": "markdown",
      "source": [
        "## Data"
      ],
      "metadata": {
        "id": "oOu-GGfn4VDe"
      }
    },
    {
      "cell_type": "code",
      "source": [
        "!nvidia-smi"
      ],
      "metadata": {
        "colab": {
          "base_uri": "https://localhost:8080/"
        },
        "id": "iC-l7rmeXZ93",
        "outputId": "ca6c31eb-c1c5-4d19-f190-f6116a8fe59e"
      },
      "execution_count": null,
      "outputs": [
        {
          "output_type": "stream",
          "name": "stdout",
          "text": [
            "Wed Oct  4 15:47:12 2023       \n",
            "+-----------------------------------------------------------------------------+\n",
            "| NVIDIA-SMI 525.105.17   Driver Version: 525.105.17   CUDA Version: 12.0     |\n",
            "|-------------------------------+----------------------+----------------------+\n",
            "| GPU  Name        Persistence-M| Bus-Id        Disp.A | Volatile Uncorr. ECC |\n",
            "| Fan  Temp  Perf  Pwr:Usage/Cap|         Memory-Usage | GPU-Util  Compute M. |\n",
            "|                               |                      |               MIG M. |\n",
            "|===============================+======================+======================|\n",
            "|   0  Tesla T4            Off  | 00000000:00:04.0 Off |                    0 |\n",
            "| N/A   51C    P8    10W /  70W |      0MiB / 15360MiB |      0%      Default |\n",
            "|                               |                      |                  N/A |\n",
            "+-------------------------------+----------------------+----------------------+\n",
            "                                                                               \n",
            "+-----------------------------------------------------------------------------+\n",
            "| Processes:                                                                  |\n",
            "|  GPU   GI   CI        PID   Type   Process name                  GPU Memory |\n",
            "|        ID   ID                                                   Usage      |\n",
            "|=============================================================================|\n",
            "|  No running processes found                                                 |\n",
            "+-----------------------------------------------------------------------------+\n"
          ]
        }
      ]
    },
    {
      "cell_type": "code",
      "source": [
        "!wget https://storage.googleapis.com/ztm_tf_course/food_vision/10_food_classes_10_percent.zip\n",
        "\n",
        "zip_ref = zipfile.ZipFile(\"10_food_classes_10_percent.zip\", \"r\")\n",
        "zip_ref.extractall()\n",
        "zip_ref.close()"
      ],
      "metadata": {
        "colab": {
          "base_uri": "https://localhost:8080/"
        },
        "id": "3wiX0qVG1lD5",
        "outputId": "ab638812-6eea-4e79-f50f-46080120b924"
      },
      "execution_count": null,
      "outputs": [
        {
          "output_type": "stream",
          "name": "stdout",
          "text": [
            "--2023-10-04 15:47:13--  https://storage.googleapis.com/ztm_tf_course/food_vision/10_food_classes_10_percent.zip\n",
            "Resolving storage.googleapis.com (storage.googleapis.com)... 64.233.170.207, 142.251.175.207, 74.125.24.207, ...\n",
            "Connecting to storage.googleapis.com (storage.googleapis.com)|64.233.170.207|:443... connected.\n",
            "HTTP request sent, awaiting response... 200 OK\n",
            "Length: 168546183 (161M) [application/zip]\n",
            "Saving to: ‘10_food_classes_10_percent.zip’\n",
            "\n",
            "10_food_classes_10_ 100%[===================>] 160.74M  21.6MB/s    in 8.6s    \n",
            "\n",
            "2023-10-04 15:47:22 (18.6 MB/s) - ‘10_food_classes_10_percent.zip’ saved [168546183/168546183]\n",
            "\n"
          ]
        }
      ]
    },
    {
      "cell_type": "markdown",
      "source": [
        "Disini akan menggunakan klasifikasi categorical. yang mana akan dilakukan klasifikasi sebanyak 10 class."
      ],
      "metadata": {
        "id": "ea4MrqRB4uV3"
      }
    },
    {
      "cell_type": "code",
      "source": [
        "for dirpath, dirnames, filenames in os.walk(\"10_food_classes_10_percent\"):\n",
        "  print(f\"There are {len(dirnames)} directories and {len(filenames)} images in '{dirpath}'.\")"
      ],
      "metadata": {
        "colab": {
          "base_uri": "https://localhost:8080/"
        },
        "id": "P_a2QEhJ4RgM",
        "outputId": "1b7848e3-b234-4c7b-c469-c04c090ad067"
      },
      "execution_count": null,
      "outputs": [
        {
          "output_type": "stream",
          "name": "stdout",
          "text": [
            "There are 2 directories and 0 images in '10_food_classes_10_percent'.\n",
            "There are 10 directories and 0 images in '10_food_classes_10_percent/train'.\n",
            "There are 0 directories and 75 images in '10_food_classes_10_percent/train/chicken_wings'.\n",
            "There are 0 directories and 75 images in '10_food_classes_10_percent/train/chicken_curry'.\n",
            "There are 0 directories and 75 images in '10_food_classes_10_percent/train/hamburger'.\n",
            "There are 0 directories and 75 images in '10_food_classes_10_percent/train/pizza'.\n",
            "There are 0 directories and 75 images in '10_food_classes_10_percent/train/steak'.\n",
            "There are 0 directories and 75 images in '10_food_classes_10_percent/train/ice_cream'.\n",
            "There are 0 directories and 75 images in '10_food_classes_10_percent/train/sushi'.\n",
            "There are 0 directories and 75 images in '10_food_classes_10_percent/train/grilled_salmon'.\n",
            "There are 0 directories and 75 images in '10_food_classes_10_percent/train/ramen'.\n",
            "There are 0 directories and 75 images in '10_food_classes_10_percent/train/fried_rice'.\n",
            "There are 10 directories and 0 images in '10_food_classes_10_percent/test'.\n",
            "There are 0 directories and 250 images in '10_food_classes_10_percent/test/chicken_wings'.\n",
            "There are 0 directories and 250 images in '10_food_classes_10_percent/test/chicken_curry'.\n",
            "There are 0 directories and 250 images in '10_food_classes_10_percent/test/hamburger'.\n",
            "There are 0 directories and 250 images in '10_food_classes_10_percent/test/pizza'.\n",
            "There are 0 directories and 250 images in '10_food_classes_10_percent/test/steak'.\n",
            "There are 0 directories and 250 images in '10_food_classes_10_percent/test/ice_cream'.\n",
            "There are 0 directories and 250 images in '10_food_classes_10_percent/test/sushi'.\n",
            "There are 0 directories and 250 images in '10_food_classes_10_percent/test/grilled_salmon'.\n",
            "There are 0 directories and 250 images in '10_food_classes_10_percent/test/ramen'.\n",
            "There are 0 directories and 250 images in '10_food_classes_10_percent/test/fried_rice'.\n"
          ]
        }
      ]
    },
    {
      "cell_type": "markdown",
      "source": [
        "## Callback (sesuatu yang berjalan disaat dilakukan training)\n",
        "Terdapat macam-macam callback, yaitu:\n",
        "* [`**Experiment tracking with TensorBoard**`](https://www.tensorflow.org/api_docs/python/tf/keras/callbacks/TensorBoard): TensorBoard memfasilitasi untuk melakukan perbandingan setiap model yang telah di experiment.\n",
        "* [`**Model checkpointing**`](https://www.tensorflow.org/api_docs/python/tf/keras/callbacks/ModelCheckpoint): Akan memberikan fasilitas untuk menyimpan training setelah checkpoint, dengan demikian jikalau ingin memberhentikan proses training dan melanjutkannya kemudian waktu akan sangat memungkinkan.\n",
        "* [`**Early stopping**`](https://www.tensorflow.org/api_docs/python/tf/keras/callbacks/EarlyStopping): Akan memberhentikan proses training jikalau suatu kondisi telah terpenuhi."
      ],
      "metadata": {
        "id": "xZ144rGb5upy"
      }
    },
    {
      "cell_type": "code",
      "source": [
        "def callback(dir_name, experiment_name):\n",
        "  logdir= dir_name+ \"/\"+ experiment_name+ \"/\"+ datetime.datetime.now().strftime(\"%Y%m%d-%H%M%S\")\n",
        "  tensorboard_callback= tf.keras.callbacks.TensorBoard(\n",
        "      log_dir= logdir\n",
        "  )\n",
        "  print(\"Menyimpan tensorboard di \", logdir)\n",
        "\n",
        "  return tensorboard_callback"
      ],
      "metadata": {
        "id": "m-e8OUmO7s5t"
      },
      "execution_count": null,
      "outputs": []
    },
    {
      "cell_type": "markdown",
      "source": [
        "## Transfer Learning\n",
        "Terdapat beberapa macam bentuk transfer learning.\n",
        "* **Transfer learning**: menggunakan model tanpa melakukan perubahan.\n",
        "* **Feature Extraction transfer learning**: menggunakan model dengan merubah output.\n",
        "* **Fine-tuning transfer learning**: menggunakan mode dengan merubah output dan sebagian layer.\n",
        "\n",
        "![](https://raw.githubusercontent.com/mrdbourke/tensorflow-deep-learning/main/images/04-different-kinds-of-transfer-learning.png)"
      ],
      "metadata": {
        "id": "py2zoaXJ9xr8"
      }
    },
    {
      "cell_type": "code",
      "source": [
        "from tensorflow.keras.preprocessing.image import ImageDataGenerator"
      ],
      "metadata": {
        "id": "c2Eiy5qg4arr"
      },
      "execution_count": null,
      "outputs": []
    },
    {
      "cell_type": "code",
      "source": [
        "Image_shape= (224, 224,)\n",
        "Batch_size= 32\n",
        "\n",
        "train_dir= \"10_food_classes_10_percent/train/\"\n",
        "test_dir= \"10_food_classes_10_percent/test/\"\n",
        "\n",
        "train_datagen = ImageDataGenerator(rescale= 1./255)\n",
        "test_datagen = ImageDataGenerator(rescale = 1./255)\n",
        "\n",
        "train_data_10_precent = train_datagen.flow_from_directory(train_dir,\n",
        "                                                          target_size = Image_shape,\n",
        "                                                          batch_size = Batch_size,\n",
        "                                                          class_mode = 'categorical')\n",
        "\n",
        "test_data_10_precent = test_datagen.flow_from_directory(test_dir,\n",
        "                                                        target_size = Image_shape,\n",
        "                                                        batch_size = Batch_size,\n",
        "                                                        class_mode = 'categorical')\n",
        "\n"
      ],
      "metadata": {
        "id": "qX60Foez5Tvm",
        "colab": {
          "base_uri": "https://localhost:8080/"
        },
        "outputId": "2188b818-fc70-4172-a95c-627199af2556"
      },
      "execution_count": null,
      "outputs": [
        {
          "output_type": "stream",
          "name": "stdout",
          "text": [
            "Found 750 images belonging to 10 classes.\n",
            "Found 2500 images belonging to 10 classes.\n"
          ]
        }
      ]
    },
    {
      "cell_type": "code",
      "source": [
        "import numpy as np\n",
        "\n",
        "np.unique(train_data_10_precent.classes)"
      ],
      "metadata": {
        "colab": {
          "base_uri": "https://localhost:8080/"
        },
        "id": "cv_L0YiTIIsw",
        "outputId": "9c9b41d0-e377-4238-cda4-d995b71318b4"
      },
      "execution_count": null,
      "outputs": [
        {
          "output_type": "execute_result",
          "data": {
            "text/plain": [
              "array([0, 1, 2, 3, 4, 5, 6, 7, 8, 9], dtype=int32)"
            ]
          },
          "metadata": {},
          "execution_count": 9
        }
      ]
    },
    {
      "cell_type": "code",
      "source": [
        "train_data_10_precent.image_shape"
      ],
      "metadata": {
        "colab": {
          "base_uri": "https://localhost:8080/"
        },
        "id": "mY-tPdB3PYMd",
        "outputId": "ab889ca8-cb76-47e6-bbb3-9942b91b63d5"
      },
      "execution_count": null,
      "outputs": [
        {
          "output_type": "execute_result",
          "data": {
            "text/plain": [
              "(224, 224, 3)"
            ]
          },
          "metadata": {},
          "execution_count": 10
        }
      ]
    },
    {
      "cell_type": "markdown",
      "source": [
        "Menggunakan [efficientnet model](https://tfhub.dev/tensorflow/efficientnet/b0/feature-vector/1)"
      ],
      "metadata": {
        "id": "7UwL9H3SNJDJ"
      }
    },
    {
      "cell_type": "code",
      "source": [
        "Image_shape + (3,)"
      ],
      "metadata": {
        "colab": {
          "base_uri": "https://localhost:8080/"
        },
        "id": "j6ZIgfSKQONC",
        "outputId": "06d64a4f-3f5b-4d31-9b99-be082ee84de5"
      },
      "execution_count": null,
      "outputs": [
        {
          "output_type": "execute_result",
          "data": {
            "text/plain": [
              "(224, 224, 3)"
            ]
          },
          "metadata": {},
          "execution_count": 11
        }
      ]
    },
    {
      "cell_type": "code",
      "source": [
        "import tensorflow as tf\n",
        "import tensorflow_hub as hub\n",
        "from tensorflow.keras import layers\n",
        "\n"
      ],
      "metadata": {
        "id": "1-1WzTt_L3CD"
      },
      "execution_count": null,
      "outputs": []
    },
    {
      "cell_type": "code",
      "source": [
        "efficientnet_url = \"https://tfhub.dev/tensorflow/efficientnet/b0/feature-vector/1\""
      ],
      "metadata": {
        "id": "EQ1ypULvOsSA"
      },
      "execution_count": null,
      "outputs": []
    },
    {
      "cell_type": "code",
      "source": [
        "# Membangung layer dengan menggunana feature extraction effiecnent net\n",
        "model= tf.keras.Sequential([\n",
        "                        hub.KerasLayer(\"https://tfhub.dev/tensorflow/efficientnet/b0/feature-vector/1\",\n",
        "                                      trainable=False,\n",
        "                                      input_shape = Image_shape + (3,),\n",
        "                                       name = \"feature_extraction_layer\"),\n",
        "                        tf.keras.layers.Dense(10, activation='softmax', name = 'output_layer')\n",
        "                        ])\n"
      ],
      "metadata": {
        "id": "05mEz5fPOs4_"
      },
      "execution_count": null,
      "outputs": []
    },
    {
      "cell_type": "code",
      "source": [
        "model.summary()"
      ],
      "metadata": {
        "colab": {
          "base_uri": "https://localhost:8080/"
        },
        "id": "RJa3Gy1oQv0u",
        "outputId": "26a5b2a3-ef7a-445c-b847-37d620a501b2"
      },
      "execution_count": null,
      "outputs": [
        {
          "output_type": "stream",
          "name": "stdout",
          "text": [
            "Model: \"sequential\"\n",
            "_________________________________________________________________\n",
            " Layer (type)                Output Shape              Param #   \n",
            "=================================================================\n",
            " feature_extraction_layer (  (None, 1280)              4049564   \n",
            " KerasLayer)                                                     \n",
            "                                                                 \n",
            " output_layer (Dense)        (None, 10)                12810     \n",
            "                                                                 \n",
            "=================================================================\n",
            "Total params: 4062374 (15.50 MB)\n",
            "Trainable params: 12810 (50.04 KB)\n",
            "Non-trainable params: 4049564 (15.45 MB)\n",
            "_________________________________________________________________\n"
          ]
        }
      ]
    },
    {
      "cell_type": "code",
      "source": [
        "from keras.src.layers.serialization import activation\n",
        "# atau dapat dengan membuat function\n",
        "def create_model(model_url, num_classes = 10):\n",
        "  \"\"\" menggunakan tensorflow hub model url untuk feature extraction\n",
        "\n",
        "  Args:\n",
        "    model_url : url dari model yang akan digunakan\n",
        "    num_class : jumlah kelas yang akan diklasifikasi\n",
        "\n",
        "  returns:\n",
        "    keras sequental uncompiled model dengan feature extractor dari model url\n",
        "    dan dense output untuk outputnya\n",
        "\n",
        "  \"\"\"\n",
        "\n",
        "  feature_extrator= hub.KerasLayer(model_url,\n",
        "                                    trainable = False,\n",
        "                                    input_shape = Image_shape + (3,),\n",
        "                                    name = \"feature_extraction_layer\")\n",
        "\n",
        "  model= tf.keras.Sequential([\n",
        "      feature_extrator,\n",
        "      layers.Dense(num_classes, activation = 'softmax', name = 'output_layers')\n",
        "  ])\n",
        "\n",
        "  return model"
      ],
      "metadata": {
        "id": "jbWGj9KcQ5YL"
      },
      "execution_count": null,
      "outputs": []
    },
    {
      "cell_type": "code",
      "source": [
        "efficientnet_model= create_model(efficientnet_url)\n",
        "\n",
        "efficientnet_model.compile(loss= tf.keras.losses.categorical_crossentropy,\n",
        "                           optimizer= tf.keras.optimizers.Adam(),\n",
        "                           metrics= ['accuracy'])"
      ],
      "metadata": {
        "id": "XxkINHa8TB55"
      },
      "execution_count": null,
      "outputs": []
    },
    {
      "cell_type": "code",
      "source": [
        "len(train_data_10_precent)"
      ],
      "metadata": {
        "colab": {
          "base_uri": "https://localhost:8080/"
        },
        "id": "jkPpVCe_UKu1",
        "outputId": "7b848b38-d5ab-47c6-d3fc-189fe5bea426"
      },
      "execution_count": null,
      "outputs": [
        {
          "output_type": "execute_result",
          "data": {
            "text/plain": [
              "24"
            ]
          },
          "metadata": {},
          "execution_count": 24
        }
      ]
    },
    {
      "cell_type": "code",
      "source": [
        "history_efficientnet = efficientnet_model.fit(train_data_10_precent,\n",
        "                                              epochs= 5,\n",
        "                                              steps_per_epoch=len(train_data_10_precent),\n",
        "                                              validation_data= test_data_10_precent,\n",
        "                                              validation_steps= len(test_data_10_precent),\n",
        "                                              callbacks= [callback(dir_name= 'tensorflow_hub',\n",
        "                                                                    experiment_name= 'efficentNet')])"
      ],
      "metadata": {
        "colab": {
          "base_uri": "https://localhost:8080/"
        },
        "id": "FLcSIilWT0vP",
        "outputId": "8ea9b6d6-6362-4cdb-887a-cbc08e9dd007"
      },
      "execution_count": null,
      "outputs": [
        {
          "output_type": "stream",
          "name": "stdout",
          "text": [
            "Menyimpan tensorboard di  tensorflow_hub/efficentNet/20231004-155256\n",
            "Epoch 1/5\n",
            "24/24 [==============================] - 20s 486ms/step - loss: 1.8929 - accuracy: 0.4147 - val_loss: 1.3356 - val_accuracy: 0.7144\n",
            "Epoch 2/5\n",
            "24/24 [==============================] - 10s 425ms/step - loss: 1.0912 - accuracy: 0.7627 - val_loss: 0.8928 - val_accuracy: 0.8088\n",
            "Epoch 3/5\n",
            "24/24 [==============================] - 10s 433ms/step - loss: 0.7785 - accuracy: 0.8320 - val_loss: 0.7099 - val_accuracy: 0.8428\n",
            "Epoch 4/5\n",
            "24/24 [==============================] - 10s 438ms/step - loss: 0.6228 - accuracy: 0.8600 - val_loss: 0.6187 - val_accuracy: 0.8528\n",
            "Epoch 5/5\n",
            "24/24 [==============================] - 13s 539ms/step - loss: 0.5275 - accuracy: 0.8853 - val_loss: 0.5659 - val_accuracy: 0.8592\n"
          ]
        }
      ]
    },
    {
      "cell_type": "code",
      "source": [],
      "metadata": {
        "id": "VFuHJ2khYWys"
      },
      "execution_count": null,
      "outputs": []
    },
    {
      "cell_type": "code",
      "source": [
        "import matplotlib.pyplot as plt\n",
        "\n",
        "def plot_loss_curves(history):\n",
        "  \"\"\"\n",
        "  Returns separate loss curves for training and validation metrics.\n",
        "  \"\"\"\n",
        "  loss = history.history['loss']\n",
        "  val_loss = history.history['val_loss']\n",
        "\n",
        "  accuracy = history.history['accuracy']\n",
        "  val_accuracy = history.history['val_accuracy']\n",
        "\n",
        "  epochs = range(len(history.history['loss']))\n",
        "\n",
        "  # Plot loss\n",
        "  plt.plot(epochs, loss, label='training_loss')\n",
        "  plt.plot(epochs, val_loss, label='val_loss')\n",
        "  plt.title('Loss')\n",
        "  plt.xlabel('Epochs')\n",
        "  plt.legend()\n",
        "\n",
        "  # Plot accuracy\n",
        "  plt.figure()\n",
        "  plt.plot(epochs, accuracy, label='training_accuracy')\n",
        "  plt.plot(epochs, val_accuracy, label='val_accuracy')\n",
        "  plt.title('Accuracy')\n",
        "  plt.xlabel('Epochs')\n",
        "  plt.legend();"
      ],
      "metadata": {
        "id": "O_MAr-ufU1di"
      },
      "execution_count": null,
      "outputs": []
    },
    {
      "cell_type": "code",
      "source": [
        "history_efficientnet.history"
      ],
      "metadata": {
        "colab": {
          "base_uri": "https://localhost:8080/"
        },
        "id": "DvKnpLeNYhYk",
        "outputId": "6653a556-3671-43e4-fda5-7b0eaa413173"
      },
      "execution_count": null,
      "outputs": [
        {
          "output_type": "execute_result",
          "data": {
            "text/plain": [
              "{'loss': [1.892852544784546,\n",
              "  1.091188907623291,\n",
              "  0.778535008430481,\n",
              "  0.6228297352790833,\n",
              "  0.5275193452835083],\n",
              " 'accuracy': [0.41466665267944336,\n",
              "  0.762666642665863,\n",
              "  0.8320000171661377,\n",
              "  0.8600000143051147,\n",
              "  0.8853333592414856],\n",
              " 'val_loss': [1.3355698585510254,\n",
              "  0.8927855491638184,\n",
              "  0.7098806500434875,\n",
              "  0.6186884045600891,\n",
              "  0.5659335255622864],\n",
              " 'val_accuracy': [0.7143999934196472,\n",
              "  0.8087999820709229,\n",
              "  0.8428000211715698,\n",
              "  0.8528000116348267,\n",
              "  0.8592000007629395]}"
            ]
          },
          "metadata": {},
          "execution_count": 27
        }
      ]
    },
    {
      "cell_type": "code",
      "source": [
        "plot_loss_curves(history_efficientnet)"
      ],
      "metadata": {
        "colab": {
          "base_uri": "https://localhost:8080/",
          "height": 927
        },
        "id": "HAvv6wJgW71A",
        "outputId": "42bfa99f-d0ab-4420-d58d-4ccf81079094"
      },
      "execution_count": null,
      "outputs": [
        {
          "output_type": "display_data",
          "data": {
            "text/plain": [
              "<Figure size 640x480 with 1 Axes>"
            ],
            "image/png": "[encoded data removed]"
          },
          "metadata": {}
        },
        {
          "output_type": "display_data",
          "data": {
            "text/plain": [
              "<Figure size 640x480 with 1 Axes>"
            ],
            "image/png": "[encoded data removed]"
          },
          "metadata": {}
        }
      ]
    },
    {
      "cell_type": "markdown",
      "source": [
        "Menggunakan 5 epoch sudah memberikan hasil 88 persen pada training dan 85 persen pada validation. Mari coba menggunakan 10 epoch"
      ],
      "metadata": {
        "id": "U_CFzFibZMPC"
      }
    },
    {
      "cell_type": "code",
      "source": [
        "efficientnet_model= create_model(efficientnet_url)\n",
        "\n",
        "efficientnet_model.compile(loss= tf.keras.losses.categorical_crossentropy,\n",
        "                           optimizer= tf.keras.optimizers.Adam(),\n",
        "                           metrics= ['accuracy'])"
      ],
      "metadata": {
        "id": "9p664hqMZzuI"
      },
      "execution_count": null,
      "outputs": []
    },
    {
      "cell_type": "code",
      "source": [
        "history_efficientnet = efficientnet_model.fit(train_data_10_precent,\n",
        "                                              epochs= 10,\n",
        "                                              steps_per_epoch=len(train_data_10_precent),\n",
        "                                              validation_data= test_data_10_precent,\n",
        "                                              validation_steps= len(test_data_10_precent),\n",
        "                                              callbacks= [callback(dir_name= 'tensorflow_hub',\n",
        "                                                                    experiment_name= 'efficentNet')])"
      ],
      "metadata": {
        "colab": {
          "base_uri": "https://localhost:8080/"
        },
        "outputId": "59df80dc-351d-43dc-ea55-004e53766fcd",
        "id": "xi7IHzAOZzuM"
      },
      "execution_count": null,
      "outputs": [
        {
          "output_type": "stream",
          "name": "stdout",
          "text": [
            "Menyimpan tensorboard di  tensorflow_hub/efficentNet/20231004-160029\n",
            "Epoch 1/10\n",
            "24/24 [==============================] - 22s 511ms/step - loss: 1.8124 - accuracy: 0.4533 - val_loss: 1.2712 - val_accuracy: 0.7360\n",
            "Epoch 2/10\n",
            "24/24 [==============================] - 11s 455ms/step - loss: 1.0379 - accuracy: 0.7693 - val_loss: 0.8643 - val_accuracy: 0.8168\n",
            "Epoch 3/10\n",
            "24/24 [==============================] - 10s 427ms/step - loss: 0.7480 - accuracy: 0.8347 - val_loss: 0.6946 - val_accuracy: 0.8372\n",
            "Epoch 4/10\n",
            "24/24 [==============================] - 10s 433ms/step - loss: 0.5983 - accuracy: 0.8720 - val_loss: 0.6079 - val_accuracy: 0.8496\n",
            "Epoch 5/10\n",
            "24/24 [==============================] - 10s 432ms/step - loss: 0.5065 - accuracy: 0.8947 - val_loss: 0.5579 - val_accuracy: 0.8560\n",
            "Epoch 6/10\n",
            "24/24 [==============================] - 10s 437ms/step - loss: 0.4385 - accuracy: 0.9013 - val_loss: 0.5201 - val_accuracy: 0.8636\n",
            "Epoch 7/10\n",
            "24/24 [==============================] - 10s 413ms/step - loss: 0.3863 - accuracy: 0.9147 - val_loss: 0.4927 - val_accuracy: 0.8692\n",
            "Epoch 8/10\n",
            "24/24 [==============================] - 11s 469ms/step - loss: 0.3451 - accuracy: 0.9347 - val_loss: 0.4745 - val_accuracy: 0.8708\n",
            "Epoch 9/10\n",
            "24/24 [==============================] - 11s 461ms/step - loss: 0.3108 - accuracy: 0.9400 - val_loss: 0.4581 - val_accuracy: 0.8732\n",
            "Epoch 10/10\n",
            "24/24 [==============================] - 10s 434ms/step - loss: 0.2803 - accuracy: 0.9507 - val_loss: 0.4471 - val_accuracy: 0.8748\n"
          ]
        }
      ]
    },
    {
      "cell_type": "code",
      "source": [
        "plot_loss_curves(history_efficientnet)"
      ],
      "metadata": {
        "colab": {
          "base_uri": "https://localhost:8080/",
          "height": 927
        },
        "id": "dwSgieCMaC78",
        "outputId": "6ae6ab6d-862c-4194-92ca-9b726567cdf2"
      },
      "execution_count": null,
      "outputs": [
        {
          "output_type": "display_data",
          "data": {
            "text/plain": [
              "<Figure size 640x480 with 1 Axes>"
            ],
            "image/png": "[encoded data removed]"
          },
          "metadata": {}
        },
        {
          "output_type": "display_data",
          "data": {
            "text/plain": [
              "<Figure size 640x480 with 1 Axes>"
            ],
            "image/png": "[encoded data removed]"
          },
          "metadata": {}
        }
      ]
    },
    {
      "cell_type": "markdown",
      "source": [
        "hhmm.... bisa dikatakan ini terjadi overfitting. mari coba menggunakan fine tuning transfer learning."
      ],
      "metadata": {
        "id": "K79Kl8P2bFYw"
      }
    },
    {
      "cell_type": "code",
      "source": [],
      "metadata": {
        "id": "jys1KTxtabzc"
      },
      "execution_count": null,
      "outputs": []
    }
  ]
}