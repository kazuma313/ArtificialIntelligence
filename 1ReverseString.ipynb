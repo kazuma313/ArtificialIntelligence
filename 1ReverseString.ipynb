{
 "cells": [
  {
   "cell_type": "markdown",
   "id": "484e27e4",
   "metadata": {},
   "source": [
    "# Tes Logika "
   ]
  },
  {
   "cell_type": "markdown",
   "id": "beac0dce",
   "metadata": {},
   "source": [
    "## Membalikan kata yang bertipe string, akan tetapi yang tidak bertipe string berada pada posisi yang tetap "
   ]
  },
  {
   "cell_type": "markdown",
   "id": "467b6401",
   "metadata": {},
   "source": [
    "###  contoh : z12zj menjadi j12zz"
   ]
  },
  {
   "cell_type": "markdown",
   "id": "f184e1ec",
   "metadata": {},
   "source": [
    "##### Untuk mengerjakan task ini, di perlukan pengetahuan pada bilangan penomoran ASCII. pada python terdapat function ord() untuk mendapatkan angka ASCII dan chr() untu mendapatkan nilai dari angka yang diberikan"
   ]
  },
  {
   "cell_type": "code",
   "execution_count": 67,
   "id": "8a8a221d",
   "metadata": {},
   "outputs": [
    {
     "name": "stdout",
     "output_type": "stream",
     "text": [
      "97\n",
      "A\n"
     ]
    }
   ],
   "source": [
    "print(ord('a'))\n",
    "print(chr(65))"
   ]
  },
  {
   "cell_type": "markdown",
   "id": "2526b4b3",
   "metadata": {},
   "source": [
    "###### Algoritma saya adalah dengan memecah tipe data string dan tipe data yang bukan string. kemudian nanti yang string akan di reverse posisinya. Untuk yang bukan tipe data string akan di simpan lokasinya sehingga nanti akan di satukan kembali dengan array string yang sudah ada."
   ]
  },
  {
   "cell_type": "code",
   "execution_count": 68,
   "id": "d8257ef9",
   "metadata": {},
   "outputs": [],
   "source": [
    "string = 'z<*zj'"
   ]
  },
  {
   "cell_type": "code",
   "execution_count": 69,
   "id": "8ce22718",
   "metadata": {},
   "outputs": [
    {
     "data": {
      "text/plain": [
       "1"
      ]
     },
     "execution_count": 69,
     "metadata": {},
     "output_type": "execute_result"
    }
   ],
   "source": [
    "array = [i for i in string]\n",
    "array.index(array[1])"
   ]
  },
  {
   "cell_type": "code",
   "execution_count": 70,
   "id": "47c88d21",
   "metadata": {},
   "outputs": [
    {
     "name": "stdout",
     "output_type": "stream",
     "text": [
      "['j', 'z', 'z']\n",
      "[['<', 1], ['*', 2]]\n"
     ]
    }
   ],
   "source": [
    "word = []\n",
    "notWord = []\n",
    "for i in array:\n",
    "    if (ord(i) >= 65) & (ord(i) <= 126):\n",
    "        word.append(i)\n",
    "    else:\n",
    "        notWord.append([i, array.index(i)])\n",
    "        \n",
    "word = word[::-1]\n",
    "print(word)\n",
    "print(notWord)"
   ]
  },
  {
   "cell_type": "code",
   "execution_count": 71,
   "id": "fe6e0d21",
   "metadata": {},
   "outputs": [],
   "source": [
    "# positioning\n",
    "for i in notWord:\n",
    "    value, index = i\n",
    "    word.insert(index, value)"
   ]
  },
  {
   "cell_type": "code",
   "execution_count": 72,
   "id": "ecc40c2c",
   "metadata": {},
   "outputs": [
    {
     "data": {
      "text/plain": [
       "['j', '<', '*', 'z', 'z']"
      ]
     },
     "execution_count": 72,
     "metadata": {},
     "output_type": "execute_result"
    }
   ],
   "source": [
    "word"
   ]
  },
  {
   "cell_type": "code",
   "execution_count": 73,
   "id": "bad8f014",
   "metadata": {},
   "outputs": [
    {
     "data": {
      "text/plain": [
       "'j<*zz'"
      ]
     },
     "execution_count": 73,
     "metadata": {},
     "output_type": "execute_result"
    }
   ],
   "source": [
    "''.join(word)"
   ]
  },
  {
   "cell_type": "code",
   "execution_count": null,
   "id": "231c385b",
   "metadata": {},
   "outputs": [],
   "source": []
  }
 ],
 "metadata": {
  "kernelspec": {
   "display_name": "Python 3 (ipykernel)",
   "language": "python",
   "name": "python3"
  },
  "language_info": {
   "codemirror_mode": {
    "name": "ipython",
    "version": 3
   },
   "file_extension": ".py",
   "mimetype": "text/x-python",
   "name": "python",
   "nbconvert_exporter": "python",
   "pygments_lexer": "ipython3",
   "version": "3.9.12"
  }
 },
 "nbformat": 4,
 "nbformat_minor": 5
}
