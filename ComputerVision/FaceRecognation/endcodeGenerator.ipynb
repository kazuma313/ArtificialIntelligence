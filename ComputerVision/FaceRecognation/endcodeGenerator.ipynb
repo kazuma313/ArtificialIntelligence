{
 "cells": [
  {
   "cell_type": "code",
   "execution_count": 3,
   "metadata": {},
   "outputs": [],
   "source": [
    "import cv2 \n",
    "import face_recognition\n",
    "import pickle\n",
    "import os"
   ]
  },
  {
   "cell_type": "code",
   "execution_count": 8,
   "metadata": {},
   "outputs": [
    {
     "name": "stdout",
     "output_type": "stream",
     "text": [
      "['18650041.JPG', '18650043.JPG', '18650044.JPG', '18650045.JPG', '18650046.JPG']\n",
      "['18650041', '18650043', '18650044', '18650045', '18650046']\n"
     ]
    }
   ],
   "source": [
    "folder_mode_path = r\"images\"\n",
    "img_path_list = os.listdir(folder_mode_path)\n",
    "img_list = []\n",
    "img_ID = []\n",
    "for path in img_path_list:\n",
    "    img_mode = cv2.imread(os.path.join(folder_mode_path, path))\n",
    "    # img_mode = cv2.resize(img_mode, (430, 480), fx=1, fy=1)\n",
    "    img_list.append(img_mode)\n",
    "    img_ID.append(os.path.splitext(path)[0])\n",
    "    \n",
    "print(img_ID)\n"
   ]
  },
  {
   "cell_type": "markdown",
   "metadata": {},
   "source": [
    "Encoding"
   ]
  },
  {
   "cell_type": "code",
   "execution_count": 11,
   "metadata": {},
   "outputs": [
    {
     "name": "stdout",
     "output_type": "stream",
     "text": [
      "Start Encoding...\n",
      "Encoding complete\n",
      "Encoding saved successfully\n"
     ]
    }
   ],
   "source": [
    "def encode_img(img_list:list):\n",
    "    encode_list = []\n",
    "    for img in img_list:\n",
    "        img = cv2.cvtColor(img, cv2.COLOR_BGR2RGB)\n",
    "        encode = face_recognition.face_encodings(img)[0]\n",
    "        encode_list.append(encode)\n",
    "        \n",
    "    return encode_list\n",
    "\n",
    "print(\"Start Encoding...\")\n",
    "encodeList = encode_img(img_list=img_list)\n",
    "encode_img_list_with_id = [encodeList, img_ID]\n",
    "print(\"Encoding complete\")\n",
    "\n",
    "file = open(r\".\\model\\Encode\\my_EncodeFile.p\", \"wb\")\n",
    "pickle.dump(encode_img_list_with_id, file=file)\n",
    "file.close()\n",
    "print(\"Encoding saved successfully\")"
   ]
  },
  {
   "cell_type": "code",
   "execution_count": null,
   "metadata": {},
   "outputs": [],
   "source": []
  }
 ],
 "metadata": {
  "kernelspec": {
   "display_name": "face_recognation",
   "language": "python",
   "name": "python3"
  },
  "language_info": {
   "codemirror_mode": {
    "name": "ipython",
    "version": 3
   },
   "file_extension": ".py",
   "mimetype": "text/x-python",
   "name": "python",
   "nbconvert_exporter": "python",
   "pygments_lexer": "ipython3",
   "version": "3.11.7"
  }
 },
 "nbformat": 4,
 "nbformat_minor": 2
}
