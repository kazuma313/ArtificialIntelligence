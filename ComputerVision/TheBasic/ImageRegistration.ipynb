{
 "cells": [
  {
   "cell_type": "code",
   "execution_count": 19,
   "id": "4881e6ca",
   "metadata": {},
   "outputs": [],
   "source": [
    "import numpy as np\n",
    "import cv2\n",
    "import os\n",
    "\n",
    "import warnings\n",
    "warnings.filterwarnings('ignore')"
   ]
  },
  {
   "cell_type": "code",
   "execution_count": 20,
   "id": "50d2f7f0",
   "metadata": {},
   "outputs": [],
   "source": [
    "K=3\n",
    "threshold=1\n",
    "ITER_NUM = 2000\n",
    "\n",
    "def residual_lengths(X, Y, s, t):\n",
    "    e = np.dot(X, s) + Y\n",
    "    diff_square = np.power(e - t, 2)\n",
    "    residual = np.sqrt(np.sum(diff_square, axis=0))\n",
    "    return residual\n",
    "def ransac_fit(pts_s, pts_t):\n",
    "    inliers_num = 0\n",
    "    A = None\n",
    "    t = None\n",
    "    inliers = None\n",
    "    for i in range(ITER_NUM):\n",
    "        idx = np.random.randint(0, pts_s.shape[1], (K, 1))\n",
    "        A_tmp, t_tmp = estimate_affine(pts_s[:, idx], pts_t[:, idx])\n",
    "        residual = residual_lengths(A_tmp, t_tmp, pts_s, pts_t)\n",
    "        if not(residual is None):\n",
    "            inliers_tmp = np.where(residual < threshold)\n",
    "            inliers_num_tmp = len(inliers_tmp[0])\n",
    "            if inliers_num_tmp > inliers_num:\n",
    "                inliers_num = inliers_num_tmp\n",
    "                inliers = inliers_tmp\n",
    "                A = A_tmp\n",
    "                t = t_tmp\n",
    "        else:\n",
    "            pass\n",
    "    return A, t, inliers"
   ]
  },
  {
   "cell_type": "code",
   "execution_count": 21,
   "id": "a6d28ce4",
   "metadata": {},
   "outputs": [],
   "source": [
    "def estimate_affine(s, t):\n",
    "    num = s.shape[1]\n",
    "    M = np.zeros((2 * num, 6))\n",
    "    \n",
    "    for i in range(num):\n",
    "        temp = [[s[0, i], s[1, i], 0, 0, 1, 0],\n",
    "            [0, 0, s[0, i], s[1, i], 0, 1]]\n",
    "        M[2 * i: 2 * i + 2, :] = np.array(temp)\n",
    "    b = t.T.reshape((2 * num, 1))\n",
    "    theta = np.linalg.lstsq(M, b)[0]\n",
    "    X = theta[:4].reshape((2, 2))\n",
    "    Y = theta[4:]\n",
    "    return X, Y"
   ]
  },
  {
   "cell_type": "code",
   "execution_count": 22,
   "id": "7e3f3eb5",
   "metadata": {},
   "outputs": [],
   "source": [
    "def extract_SIFT(img):\n",
    "    img_gray = cv2.cvtColor(img, cv2.COLOR_BGR2GRAY)\n",
    "    sift = cv2.xfeatures2d.SIFT_create()\n",
    "    kp, desc = sift.detectAndCompute(img_gray, None)\n",
    "    kp = np.array([p.pt for p in kp]).T\n",
    "    return kp, desc\n",
    "\n",
    "def match_SIFT(descriptor_source, descriptor_target):\n",
    "    bf = cv2.BFMatcher()\n",
    "    matches = bf.knnMatch(descriptor_source, descriptor_target, \n",
    "    k=2)\n",
    "    pos = np.array([], dtype=np.int32).reshape((0, 2))\n",
    "    matches_num = len(matches)\n",
    "    for i in range(matches_num):\n",
    "        if matches[i][0].distance <= 0.8 * matches[i][1].distance:\n",
    "            temp = np.array([matches[i][0].queryIdx,\n",
    "                            matches[i][0].trainIdx])\n",
    "            pos = np.vstack((pos, temp))\n",
    "    return pos\n",
    "\n",
    "def affine_matrix(s, t, pos):\n",
    "    s = s[:, pos[:, 0]]\n",
    "    t = t[:, pos[:, 1]]\n",
    "    _, _, inliers = ransac_fit(s, t)\n",
    "    s = s[:, inliers[0]]\n",
    "    t = t[:, inliers[0]]\n",
    "    A, t = estimate_affine(s, t)\n",
    "    M = np.hstack((A, t))\n",
    "    return M"
   ]
  },
  {
   "cell_type": "code",
   "execution_count": 23,
   "id": "6676c539",
   "metadata": {},
   "outputs": [],
   "source": [
    "image1 = cv2.imread(fr\"{os.getcwd()}\\dataset\\sister.JPG\")\n",
    "image2 = cv2.imread(fr\"{os.getcwd()}\\dataset\\meAndSister.JPG\")"
   ]
  },
  {
   "cell_type": "code",
   "execution_count": 24,
   "id": "489322f1",
   "metadata": {},
   "outputs": [],
   "source": [
    "def seeImage(image:\"image read\", name:str = \"image\"):\n",
    "    cv2.imshow(name,image)\n",
    "    cv2.waitKey(0)\n",
    "    cv2.destroyAllWindows()\n",
    "    "
   ]
  },
  {
   "cell_type": "code",
   "execution_count": 25,
   "id": "925835d7",
   "metadata": {},
   "outputs": [],
   "source": [
    "keypoint_source, descriptor_source = extract_SIFT(image1)\n",
    "keypoint_target, descriptor_target = extract_SIFT(image2)"
   ]
  },
  {
   "cell_type": "code",
   "execution_count": 26,
   "id": "cc97745e",
   "metadata": {},
   "outputs": [],
   "source": [
    "pos = match_SIFT(descriptor_source, descriptor_target)\n",
    "H = affine_matrix(keypoint_source, keypoint_target, pos)"
   ]
  },
  {
   "cell_type": "code",
   "execution_count": 27,
   "id": "88db30bb",
   "metadata": {},
   "outputs": [],
   "source": [
    "rows, cols, _ = image2.shape\n",
    "warp = cv2.warpAffine(image1, H, (cols, rows))\n",
    "merge = np.uint8(image2 * 0.5 + warp * 0.5)"
   ]
  },
  {
   "cell_type": "code",
   "execution_count": 18,
   "id": "8e67a531",
   "metadata": {},
   "outputs": [],
   "source": [
    "seeImage(merge)"
   ]
  },
  {
   "cell_type": "code",
   "execution_count": null,
   "id": "49bb190a",
   "metadata": {},
   "outputs": [],
   "source": []
  }
 ],
 "metadata": {
  "kernelspec": {
   "display_name": "Python 3 (ipykernel)",
   "language": "python",
   "name": "python3"
  },
  "language_info": {
   "codemirror_mode": {
    "name": "ipython",
    "version": 3
   },
   "file_extension": ".py",
   "mimetype": "text/x-python",
   "name": "python",
   "nbconvert_exporter": "python",
   "pygments_lexer": "ipython3",
   "version": "3.9.12"
  }
 },
 "nbformat": 4,
 "nbformat_minor": 5
}
