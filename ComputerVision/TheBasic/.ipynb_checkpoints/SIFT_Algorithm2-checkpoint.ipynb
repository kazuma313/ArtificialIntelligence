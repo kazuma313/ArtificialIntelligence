{
 "cells": [
  {
   "cell_type": "code",
   "execution_count": 2,
   "id": "1366671f",
   "metadata": {},
   "outputs": [],
   "source": [
    "import numpy as np\n",
    "import cv2\n",
    "import matplotlib.pyplot as plt \n",
    "import os"
   ]
  },
  {
   "cell_type": "code",
   "execution_count": 3,
   "id": "4141ddf3",
   "metadata": {},
   "outputs": [
    {
     "data": {
      "text/plain": [
       "'F:\\\\python\\\\EveryDayCoding\\\\ComputerVision\\\\TheBasic'"
      ]
     },
     "execution_count": 3,
     "metadata": {},
     "output_type": "execute_result"
    }
   ],
   "source": [
    "os.getcwd()"
   ]
  },
  {
   "cell_type": "code",
   "execution_count": 4,
   "id": "19150151",
   "metadata": {},
   "outputs": [],
   "source": [
    "image1 = cv2.imread(fr\"{os.getcwd()}\\dataset\\sister.JPG\")\n",
    "image2 = cv2.imread(fr\"{os.getcwd()}\\dataset\\meAndSister.JPG\")"
   ]
  },
  {
   "cell_type": "code",
   "execution_count": 5,
   "id": "516a9a5a",
   "metadata": {},
   "outputs": [
    {
     "name": "stdout",
     "output_type": "stream",
     "text": [
      "(648, 1152, 3)\n",
      "(648, 1152, 3)\n"
     ]
    }
   ],
   "source": [
    "print(image1.shape)\n",
    "print(image2.shape)"
   ]
  },
  {
   "cell_type": "code",
   "execution_count": 6,
   "id": "4f6e225f",
   "metadata": {},
   "outputs": [],
   "source": [
    "def seeImage(image:\"image read\", name:str = \"image\"):\n",
    "    cv2.imshow(name,image)\n",
    "    cv2.waitKey(0)\n",
    "    cv2.destroyAllWindows()\n",
    "    \n",
    "    "
   ]
  },
  {
   "cell_type": "code",
   "execution_count": 7,
   "id": "98de8bc6",
   "metadata": {},
   "outputs": [],
   "source": [
    "width, height =  int(image1.shape[1]/2), int(image1.shape[0]/2)"
   ]
  },
  {
   "cell_type": "code",
   "execution_count": 8,
   "id": "85e9e5af",
   "metadata": {},
   "outputs": [],
   "source": [
    "image1Resize = cv2.resize(image1, (width, height))\n",
    "image2Resize = cv2.resize(image2, (width, height))"
   ]
  },
  {
   "cell_type": "code",
   "execution_count": 9,
   "id": "2e56c4f9",
   "metadata": {},
   "outputs": [],
   "source": [
    "seeImage(image1Resize, \"sister\")\n",
    "seeImage(image2Resize, \"me and Sister\")"
   ]
  },
  {
   "cell_type": "code",
   "execution_count": 10,
   "id": "1dfa8537",
   "metadata": {},
   "outputs": [],
   "source": [
    "sift = cv2.xfeatures2d.SIFT_create()"
   ]
  },
  {
   "cell_type": "markdown",
   "id": "7f2379dc",
   "metadata": {},
   "source": [
    "# Find Similarity "
   ]
  },
  {
   "cell_type": "code",
   "execution_count": 11,
   "id": "45cfecfb",
   "metadata": {},
   "outputs": [],
   "source": [
    "keyPoint1, descriptor1 = sift.detectAndCompute(image1Resize, None)\n",
    "keyPoint2, descriptor2 = sift.detectAndCompute(image2Resize, None)"
   ]
  },
  {
   "cell_type": "code",
   "execution_count": 12,
   "id": "57410acd",
   "metadata": {},
   "outputs": [],
   "source": [
    "drawImg1Sift = cv2.drawKeypoints(image1Resize, keyPoint1, image1)\n",
    "drawImg2Sift = cv2.drawKeypoints(image2Resize, keyPoint2, image2)"
   ]
  },
  {
   "cell_type": "code",
   "execution_count": 13,
   "id": "f2834d20",
   "metadata": {},
   "outputs": [],
   "source": [
    "seeImage(drawImg1Sift, \"sister SIFT\")\n",
    "seeImage(drawImg2Sift, \"me and Sister SIFT\")"
   ]
  },
  {
   "cell_type": "code",
   "execution_count": 14,
   "id": "40d826ec",
   "metadata": {},
   "outputs": [],
   "source": [
    "norm = cv2.NORM_L2\n",
    "\n",
    "bruteForce = cv2.BFMatcher(norm)\n",
    "\n",
    "matches = bruteForce.match(descriptor1, descriptor2)\n",
    "matches = sorted(matches, key= lambda match : match.distance)"
   ]
  },
  {
   "cell_type": "code",
   "execution_count": 15,
   "id": "ed03e76d",
   "metadata": {},
   "outputs": [],
   "source": [
    "matches_img = cv2.drawMatches(\n",
    "    image1Resize, keyPoint1,\n",
    "    image2Resize, keyPoint2,\n",
    "    matches[:10], image2Resize.copy())"
   ]
  },
  {
   "cell_type": "code",
   "execution_count": 16,
   "id": "57fd42f3",
   "metadata": {},
   "outputs": [],
   "source": [
    "seeImage(matches_img)"
   ]
  },
  {
   "cell_type": "code",
   "execution_count": null,
   "id": "41ea2c53",
   "metadata": {},
   "outputs": [],
   "source": []
  }
 ],
 "metadata": {
  "kernelspec": {
   "display_name": "Python 3 (ipykernel)",
   "language": "python",
   "name": "python3"
  },
  "language_info": {
   "codemirror_mode": {
    "name": "ipython",
    "version": 3
   },
   "file_extension": ".py",
   "mimetype": "text/x-python",
   "name": "python",
   "nbconvert_exporter": "python",
   "pygments_lexer": "ipython3",
   "version": "3.9.12"
  }
 },
 "nbformat": 4,
 "nbformat_minor": 5
}
