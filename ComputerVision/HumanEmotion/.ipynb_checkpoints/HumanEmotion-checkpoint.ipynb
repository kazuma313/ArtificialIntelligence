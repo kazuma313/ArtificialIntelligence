{
 "cells": [
  {
   "cell_type": "code",
   "execution_count": 13,
   "id": "e574a14e",
   "metadata": {},
   "outputs": [],
   "source": [
    "import pandas as pd \n",
    "import numpy as np\n",
    "import os\n",
    "import matplotlib.pyplot as plt\n",
    "import cv2\n",
    "from sklearn import preprocessing\n",
    "\n",
    "import tensorflow as tf\n",
    "from tensorflow import keras\n",
    "%matplotlib inline"
   ]
  },
  {
   "cell_type": "code",
   "execution_count": 14,
   "id": "6d684915",
   "metadata": {},
   "outputs": [],
   "source": [
    "path_train = r\"F:\\python\\EveryDayCoding\\ComputerVision\\HumanEmotion\\Dataset\\train\"\n",
    "path_test = r\"F:\\python\\EveryDayCoding\\ComputerVision\\HumanEmotion\\Dataset\\test\""
   ]
  },
  {
   "cell_type": "code",
   "execution_count": 15,
   "id": "090a4ec5",
   "metadata": {},
   "outputs": [],
   "source": [
    "def get_data(path:str) -> \"X, y\":\n",
    "    X = []\n",
    "    y = []\n",
    "    for i in os.listdir(path):\n",
    "        for j in os.listdir(path + \"/\" + i):\n",
    "            image_read = cv2.imread(f\"{path}/{i}/{j}\", cv2.IMREAD_GRAYSCALE)\n",
    "            image_read = image_read.reshape(image_read.shape[0] * image_read.shape[1])/255\n",
    "            X.append(image_read)\n",
    "            y.append(i)\n",
    "            \n",
    "    return X, y\n"
   ]
  },
  {
   "cell_type": "code",
   "execution_count": 16,
   "id": "af4cc8c6",
   "metadata": {},
   "outputs": [],
   "source": [
    "df_train_X, df_train_y = get_data(path_train)\n",
    "df_test_X, df_test_y = get_data(path_test)"
   ]
  },
  {
   "cell_type": "code",
   "execution_count": 17,
   "id": "9d8c54fb",
   "metadata": {},
   "outputs": [],
   "source": [
    "encode_type = preprocessing.LabelEncoder()"
   ]
  },
  {
   "cell_type": "code",
   "execution_count": 18,
   "id": "fee29027",
   "metadata": {},
   "outputs": [],
   "source": [
    "df_train_y = encode_type.fit_transform(df_train_y)\n",
    "df_test_y = encode_type.fit_transform(df_test_y)"
   ]
  },
  {
   "cell_type": "code",
   "execution_count": 19,
   "id": "4a55c6fa",
   "metadata": {},
   "outputs": [
    {
     "data": {
      "text/plain": [
       "array([0, 1, 2, 3, 4, 5, 6], dtype=int64)"
      ]
     },
     "execution_count": 19,
     "metadata": {},
     "output_type": "execute_result"
    }
   ],
   "source": [
    "np.unique(df_train_y)"
   ]
  },
  {
   "cell_type": "code",
   "execution_count": 20,
   "id": "4f6ad0ad",
   "metadata": {},
   "outputs": [
    {
     "name": "stdout",
     "output_type": "stream",
     "text": [
      "encode y test data\n",
      "\n",
      "0 --> angry\n",
      "1 --> disgust\n",
      "2 --> fear\n",
      "3 --> happy\n",
      "4 --> neutral\n",
      "5 --> sad\n",
      "6 --> surprise\n"
     ]
    }
   ],
   "source": [
    "print(\"encode y test data\\n\")\n",
    "for numerik, nominal in zip(np.unique(df_test_y), encode_type.inverse_transform(np.unique(df_test_y))):\n",
    "    print(f\"{numerik} --> {nominal}\")"
   ]
  },
  {
   "cell_type": "code",
   "execution_count": 21,
   "id": "09993b1d",
   "metadata": {},
   "outputs": [
    {
     "name": "stdout",
     "output_type": "stream",
     "text": [
      "encode y train data\n",
      "\n",
      "0 --> angry\n",
      "1 --> disgust\n",
      "2 --> fear\n",
      "3 --> happy\n",
      "4 --> neutral\n",
      "5 --> sad\n",
      "6 --> surprise\n"
     ]
    }
   ],
   "source": [
    "print(\"encode y train data\\n\")\n",
    "for numerik, nominal in zip(np.unique(df_train_y), encode_type.inverse_transform(np.unique(df_train_y))):\n",
    "    print(f\"{numerik} --> {nominal}\")"
   ]
  },
  {
   "cell_type": "code",
   "execution_count": 22,
   "id": "443a599f",
   "metadata": {},
   "outputs": [
    {
     "data": {
      "text/plain": [
       "(28709, 2304)"
      ]
     },
     "execution_count": 22,
     "metadata": {},
     "output_type": "execute_result"
    }
   ],
   "source": [
    "np.shape(df_train_X)\n"
   ]
  },
  {
   "cell_type": "code",
   "execution_count": 23,
   "id": "5e1da6b9",
   "metadata": {},
   "outputs": [
    {
     "data": {
      "text/plain": [
       "(28709,)"
      ]
     },
     "execution_count": 23,
     "metadata": {},
     "output_type": "execute_result"
    }
   ],
   "source": [
    "np.shape(df_train_y)"
   ]
  },
  {
   "cell_type": "markdown",
   "id": "573e5744",
   "metadata": {},
   "source": [
    "##  Relearn about tensor. it's important!!!"
   ]
  },
  {
   "cell_type": "code",
   "execution_count": 24,
   "id": "0cf80459",
   "metadata": {},
   "outputs": [
    {
     "data": {
      "text/plain": [
       "<tf.Tensor: shape=(28709, 2304), dtype=float64, numpy=\n",
       "array([[0.19607843, 0.1254902 , 0.05882353, ..., 0.56078431, 0.53333333,\n",
       "        0.3254902 ],\n",
       "       [0.11372549, 0.09411765, 0.11372549, ..., 0.05882353, 0.09411765,\n",
       "        0.09411765],\n",
       "       [0.        , 0.        , 0.        , ..., 0.        , 0.        ,\n",
       "        0.        ],\n",
       "       ...,\n",
       "       [0.48627451, 0.50588235, 0.49019608, ..., 0.98039216, 0.95294118,\n",
       "        0.98431373],\n",
       "       [0.94901961, 0.94901961, 0.94901961, ..., 0.66666667, 0.76470588,\n",
       "        0.79607843],\n",
       "       [0.76078431, 0.77254902, 0.74901961, ..., 1.        , 1.        ,\n",
       "        1.        ]])>"
      ]
     },
     "execution_count": 24,
     "metadata": {},
     "output_type": "execute_result"
    }
   ],
   "source": [
    "tf.stack(df_train_X)"
   ]
  },
  {
   "cell_type": "code",
   "execution_count": 25,
   "id": "d079f958",
   "metadata": {},
   "outputs": [],
   "source": [
    "model = keras.Sequential(\n",
    "[\n",
    "    keras.layers.Dense(200, input_shape = (np.shape(df_train_X)[1],), activation = \"sigmoid\" ),\n",
    "    keras.layers.Dense(100, activation = \"sigmoid\"),\n",
    "    keras.layers.Dense(7, activation = \"sigmoid\")\n",
    "])"
   ]
  },
  {
   "cell_type": "code",
   "execution_count": 26,
   "id": "7eeab49b",
   "metadata": {},
   "outputs": [],
   "source": [
    "model.compile(optimizer='adam',\n",
    "             loss = 'sparse_categorical_crossentropy',\n",
    "             metrics = ['accuracy'])"
   ]
  },
  {
   "cell_type": "code",
   "execution_count": 27,
   "id": "e8f159d1",
   "metadata": {},
   "outputs": [
    {
     "name": "stdout",
     "output_type": "stream",
     "text": [
      "Epoch 1/20\n",
      "898/898 [==============================] - 16s 7ms/step - loss: 1.7943 - accuracy: 0.2588\n",
      "Epoch 2/20\n",
      "898/898 [==============================] - 6s 7ms/step - loss: 1.7134 - accuracy: 0.3213\n",
      "Epoch 3/20\n",
      "898/898 [==============================] - 5s 6ms/step - loss: 1.6859 - accuracy: 0.3357\n",
      "Epoch 4/20\n",
      "898/898 [==============================] - 5s 6ms/step - loss: 1.6706 - accuracy: 0.3418\n",
      "Epoch 5/20\n",
      "898/898 [==============================] - 5s 6ms/step - loss: 1.6646 - accuracy: 0.3478\n",
      "Epoch 6/20\n",
      "898/898 [==============================] - 6s 7ms/step - loss: 1.6541 - accuracy: 0.3533\n",
      "Epoch 7/20\n",
      "898/898 [==============================] - 5s 6ms/step - loss: 1.6499 - accuracy: 0.3534\n",
      "Epoch 8/20\n",
      "898/898 [==============================] - 6s 7ms/step - loss: 1.6388 - accuracy: 0.3597\n",
      "Epoch 9/20\n",
      "898/898 [==============================] - 6s 6ms/step - loss: 1.6301 - accuracy: 0.3645\n",
      "Epoch 10/20\n",
      "898/898 [==============================] - 6s 6ms/step - loss: 1.6232 - accuracy: 0.3619\n",
      "Epoch 11/20\n",
      "898/898 [==============================] - 5s 6ms/step - loss: 1.6150 - accuracy: 0.3694\n",
      "Epoch 12/20\n",
      "898/898 [==============================] - 5s 6ms/step - loss: 1.6088 - accuracy: 0.3705\n",
      "Epoch 13/20\n",
      "898/898 [==============================] - 5s 6ms/step - loss: 1.6041 - accuracy: 0.3744\n",
      "Epoch 14/20\n",
      "898/898 [==============================] - 5s 6ms/step - loss: 1.5982 - accuracy: 0.3731\n",
      "Epoch 15/20\n",
      "898/898 [==============================] - 5s 6ms/step - loss: 1.5880 - accuracy: 0.3784\n",
      "Epoch 16/20\n",
      "898/898 [==============================] - 5s 6ms/step - loss: 1.5850 - accuracy: 0.3789\n",
      "Epoch 17/20\n",
      "898/898 [==============================] - 6s 6ms/step - loss: 1.5725 - accuracy: 0.3856\n",
      "Epoch 18/20\n",
      "898/898 [==============================] - 6s 6ms/step - loss: 1.5701 - accuracy: 0.3873\n",
      "Epoch 19/20\n",
      "898/898 [==============================] - 6s 7ms/step - loss: 1.5661 - accuracy: 0.3857\n",
      "Epoch 20/20\n",
      "898/898 [==============================] - 6s 7ms/step - loss: 1.5631 - accuracy: 0.3849\n"
     ]
    },
    {
     "data": {
      "text/plain": [
       "<keras.callbacks.History at 0x24029f84430>"
      ]
     },
     "execution_count": 27,
     "metadata": {},
     "output_type": "execute_result"
    }
   ],
   "source": [
    "model.fit(tf.stack(df_train_X), df_train_y, epochs=20)"
   ]
  },
  {
   "cell_type": "code",
   "execution_count": 28,
   "id": "b8170d5b",
   "metadata": {},
   "outputs": [
    {
     "name": "stdout",
     "output_type": "stream",
     "text": [
      "225/225 [==============================] - 13s 8ms/step - loss: 1.5997 - accuracy: 0.3816\n"
     ]
    },
    {
     "data": {
      "text/plain": [
       "[1.5996642112731934, 0.3815826177597046]"
      ]
     },
     "execution_count": 28,
     "metadata": {},
     "output_type": "execute_result"
    }
   ],
   "source": [
    "model.evaluate(tf.stack(df_test_X), df_test_y)"
   ]
  },
  {
   "cell_type": "code",
   "execution_count": 30,
   "id": "7885246e",
   "metadata": {},
   "outputs": [
    {
     "ename": "NameError",
     "evalue": "name 'Y_predict_label' is not defined",
     "output_type": "error",
     "traceback": [
      "\u001b[1;31m---------------------------------------------------------------------------\u001b[0m",
      "\u001b[1;31mNameError\u001b[0m                                 Traceback (most recent call last)",
      "Input \u001b[1;32mIn [30]\u001b[0m, in \u001b[0;36m<cell line: 1>\u001b[1;34m()\u001b[0m\n\u001b[1;32m----> 1\u001b[0m confusion_matrix \u001b[38;5;241m=\u001b[39m tf\u001b[38;5;241m.\u001b[39mmath\u001b[38;5;241m.\u001b[39mconfusion_matrix(labels\u001b[38;5;241m=\u001b[39mdf_test_y, predictions\u001b[38;5;241m=\u001b[39m\u001b[43mY_predict_label\u001b[49m)\n\u001b[0;32m      2\u001b[0m plt\u001b[38;5;241m.\u001b[39mpyplot\u001b[38;5;241m.\u001b[39mfigure(figsize \u001b[38;5;241m=\u001b[39m (\u001b[38;5;241m10\u001b[39m,\u001b[38;5;241m7\u001b[39m))\n\u001b[0;32m      3\u001b[0m sn\u001b[38;5;241m.\u001b[39mheatmap(confusion_matrix, annot\u001b[38;5;241m=\u001b[39m\u001b[38;5;28;01mTrue\u001b[39;00m, fmt\u001b[38;5;241m=\u001b[39m\u001b[38;5;124m'\u001b[39m\u001b[38;5;124md\u001b[39m\u001b[38;5;124m'\u001b[39m)\n",
      "\u001b[1;31mNameError\u001b[0m: name 'Y_predict_label' is not defined"
     ]
    }
   ],
   "source": [
    "confusion_matrix = tf.math.confusion_matrix(labels=df_test_y, predictions=Y_predict_label)\n",
    "plt.pyplot.figure(figsize = (10,7))\n",
    "sn.heatmap(confusion_matrix, annot=True, fmt='d')\n",
    "plt.pyplot.xlabel('Predicted')\n",
    "plt.pyplot.ylabel('Truth')"
   ]
  },
  {
   "cell_type": "markdown",
   "id": "f92546f3",
   "metadata": {},
   "source": [
    "#### Trying edge detection"
   ]
  },
  {
   "cell_type": "code",
   "execution_count": 35,
   "id": "22da2369",
   "metadata": {},
   "outputs": [],
   "source": [
    "path_train = r'F:\\python\\EveryDayCoding\\ComputerVision\\HumanEmotion\\Dataset\\train\\angry'"
   ]
  },
  {
   "cell_type": "code",
   "execution_count": 38,
   "id": "66629c04",
   "metadata": {},
   "outputs": [
    {
     "name": "stdout",
     "output_type": "stream",
     "text": [
      "Training_10316849.jpg\n"
     ]
    }
   ],
   "source": [
    "print(os.listdir(path_train)[10])"
   ]
  },
  {
   "cell_type": "code",
   "execution_count": 43,
   "id": "a8c072e2",
   "metadata": {},
   "outputs": [],
   "source": [
    "read_image = cv2.imread(f\"{path_train}/{os.listdir(path_train)[10]}\",cv2.IMREAD_GRAYSCALE)"
   ]
  },
  {
   "cell_type": "code",
   "execution_count": 44,
   "id": "3a1d3ccb",
   "metadata": {},
   "outputs": [
    {
     "name": "stdout",
     "output_type": "stream",
     "text": [
      "[[198 207 211 ... 197 178 231]\n",
      " [194 210 206 ... 207 174 205]\n",
      " [205 216 210 ... 207 187 174]\n",
      " ...\n",
      " [255 255 255 ... 137 150 129]\n",
      " [255 255 255 ... 131 141 140]\n",
      " [255 255 255 ... 136 129 146]]\n"
     ]
    }
   ],
   "source": [
    "print(read_image)"
   ]
  },
  {
   "cell_type": "code",
   "execution_count": 46,
   "id": "91bda6a9",
   "metadata": {},
   "outputs": [
    {
     "data": {
      "text/plain": [
       "<matplotlib.image.AxesImage at 0x2402b210460>"
      ]
     },
     "execution_count": 46,
     "metadata": {},
     "output_type": "execute_result"
    },
    {
     "data": {
      "image/png": "[encoded data removed]",
      "text/plain": [
       "<Figure size 432x288 with 1 Axes>"
      ]
     },
     "metadata": {
      "needs_background": "light"
     },
     "output_type": "display_data"
    }
   ],
   "source": [
    "plt.imshow(read_image, 'gray')"
   ]
  },
  {
   "cell_type": "code",
   "execution_count": 47,
   "id": "9935b471",
   "metadata": {},
   "outputs": [
    {
     "data": {
      "text/plain": [
       "(48, 48)"
      ]
     },
     "execution_count": 47,
     "metadata": {},
     "output_type": "execute_result"
    }
   ],
   "source": [
    "read_image.shape"
   ]
  },
  {
   "cell_type": "code",
   "execution_count": null,
   "id": "53d901b9",
   "metadata": {},
   "outputs": [],
   "source": [
    "cv2.Canny()"
   ]
  }
 ],
 "metadata": {
  "kernelspec": {
   "display_name": "Python 3 (ipykernel)",
   "language": "python",
   "name": "python3"
  },
  "language_info": {
   "codemirror_mode": {
    "name": "ipython",
    "version": 3
   },
   "file_extension": ".py",
   "mimetype": "text/x-python",
   "name": "python",
   "nbconvert_exporter": "python",
   "pygments_lexer": "ipython3",
   "version": "3.9.12"
  }
 },
 "nbformat": 4,
 "nbformat_minor": 5
}
