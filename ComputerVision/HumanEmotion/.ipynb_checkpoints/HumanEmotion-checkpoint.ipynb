{
 "cells": [
  {
   "cell_type": "code",
   "execution_count": 248,
   "id": "e574a14e",
   "metadata": {},
   "outputs": [],
   "source": [
    "import pandas as pd \n",
    "import numpy as np\n",
    "import os\n",
    "import matplotlib.pyplot as plt\n",
    "import cv2\n",
    "from sklearn import preprocessing"
   ]
  },
  {
   "cell_type": "code",
   "execution_count": 249,
   "id": "6d684915",
   "metadata": {},
   "outputs": [],
   "source": [
    "path_train = r\"F:\\python\\EveryDayCoding\\ComputerVision\\HumanEmotion\\Dataset\\train\"\n",
    "path_test = r\"F:\\python\\EveryDayCoding\\ComputerVision\\HumanEmotion\\Dataset\\test\""
   ]
  },
  {
   "cell_type": "code",
   "execution_count": 250,
   "id": "090a4ec5",
   "metadata": {},
   "outputs": [],
   "source": [
    "def get_data(path:str) -> \"X, y\":\n",
    "    X = []\n",
    "    y = []\n",
    "    for i in os.listdir(path):\n",
    "        for j in os.listdir(path + \"/\" + i):\n",
    "            image_read = cv2.imread(f\"{path}/{i}/{j}\", cv2.IMREAD_GRAYSCALE)\n",
    "            image_read = image_read.reshape(image_read.shape[0] * image_read.shape[1])/255\n",
    "            X.append(image_read)\n",
    "            y.append(i)\n",
    "            \n",
    "    return X, y\n"
   ]
  },
  {
   "cell_type": "code",
   "execution_count": 251,
   "id": "af4cc8c6",
   "metadata": {},
   "outputs": [],
   "source": [
    "df_train_X, df_train_y = get_data(path_train)\n",
    "df_test_X, df_test_y = get_data(path_test)"
   ]
  },
  {
   "cell_type": "code",
   "execution_count": 263,
   "id": "8995112d",
   "metadata": {},
   "outputs": [
    {
     "data": {
      "text/plain": [
       "(28709, 2304)"
      ]
     },
     "execution_count": 263,
     "metadata": {},
     "output_type": "execute_result"
    }
   ],
   "source": []
  },
  {
   "cell_type": "code",
   "execution_count": 264,
   "id": "f10804df",
   "metadata": {},
   "outputs": [
    {
     "data": {
      "text/plain": [
       "(28709,)"
      ]
     },
     "execution_count": 264,
     "metadata": {},
     "output_type": "execute_result"
    }
   ],
   "source": []
  },
  {
   "cell_type": "code",
   "execution_count": 255,
   "id": "9d8c54fb",
   "metadata": {},
   "outputs": [],
   "source": [
    "encode_type = preprocessing.LabelEncoder()"
   ]
  },
  {
   "cell_type": "code",
   "execution_count": 256,
   "id": "fee29027",
   "metadata": {},
   "outputs": [],
   "source": [
    "df_train_y = encode_type.fit_transform(df_train_y)\n",
    "df_test_y = encode_type.fit_transform(df_test_y)"
   ]
  },
  {
   "cell_type": "code",
   "execution_count": 257,
   "id": "4a55c6fa",
   "metadata": {},
   "outputs": [
    {
     "data": {
      "text/plain": [
       "array([0, 1, 2, 3, 4, 5, 6], dtype=int64)"
      ]
     },
     "execution_count": 257,
     "metadata": {},
     "output_type": "execute_result"
    }
   ],
   "source": [
    "np.unique(df_train_y)"
   ]
  },
  {
   "cell_type": "code",
   "execution_count": 258,
   "id": "4f6ad0ad",
   "metadata": {},
   "outputs": [
    {
     "name": "stdout",
     "output_type": "stream",
     "text": [
      "encode y test data\n",
      "\n",
      "0 --> angry\n",
      "1 --> disgust\n",
      "2 --> fear\n",
      "3 --> happy\n",
      "4 --> neutral\n",
      "5 --> sad\n",
      "6 --> surprise\n"
     ]
    }
   ],
   "source": [
    "print(\"encode y test data\\n\")\n",
    "for numerik, nominal in zip(np.unique(df_test_y), encode_type.inverse_transform(np.unique(df_test_y))):\n",
    "    print(f\"{numerik} --> {nominal}\")"
   ]
  },
  {
   "cell_type": "code",
   "execution_count": 259,
   "id": "09993b1d",
   "metadata": {},
   "outputs": [
    {
     "name": "stdout",
     "output_type": "stream",
     "text": [
      "encode y train data\n",
      "\n",
      "0 --> angry\n",
      "1 --> disgust\n",
      "2 --> fear\n",
      "3 --> happy\n",
      "4 --> neutral\n",
      "5 --> sad\n",
      "6 --> surprise\n"
     ]
    }
   ],
   "source": [
    "print(\"encode y train data\\n\")\n",
    "for numerik, nominal in zip(np.unique(df_train_y), encode_type.inverse_transform(np.unique(df_train_y))):\n",
    "    print(f\"{numerik} --> {nominal}\")"
   ]
  },
  {
   "cell_type": "code",
   "execution_count": 269,
   "id": "443a599f",
   "metadata": {},
   "outputs": [
    {
     "data": {
      "text/plain": [
       "(28709, 2304)"
      ]
     },
     "execution_count": 269,
     "metadata": {},
     "output_type": "execute_result"
    }
   ],
   "source": [
    "np.shape(df_train_X)\n"
   ]
  },
  {
   "cell_type": "code",
   "execution_count": 270,
   "id": "5e1da6b9",
   "metadata": {},
   "outputs": [
    {
     "data": {
      "text/plain": [
       "(28709,)"
      ]
     },
     "execution_count": 270,
     "metadata": {},
     "output_type": "execute_result"
    }
   ],
   "source": [
    "np.shape(df_train_y)"
   ]
  },
  {
   "cell_type": "code",
   "execution_count": 277,
   "id": "0cf80459",
   "metadata": {},
   "outputs": [
    {
     "data": {
      "text/plain": [
       "<tf.Tensor: shape=(28709, 2304), dtype=float64, numpy=\n",
       "array([[0.19607843, 0.1254902 , 0.05882353, ..., 0.56078431, 0.53333333,\n",
       "        0.3254902 ],\n",
       "       [0.11372549, 0.09411765, 0.11372549, ..., 0.05882353, 0.09411765,\n",
       "        0.09411765],\n",
       "       [0.        , 0.        , 0.        , ..., 0.        , 0.        ,\n",
       "        0.        ],\n",
       "       ...,\n",
       "       [0.48627451, 0.50588235, 0.49019608, ..., 0.98039216, 0.95294118,\n",
       "        0.98431373],\n",
       "       [0.94901961, 0.94901961, 0.94901961, ..., 0.66666667, 0.76470588,\n",
       "        0.79607843],\n",
       "       [0.76078431, 0.77254902, 0.74901961, ..., 1.        , 1.        ,\n",
       "        1.        ]])>"
      ]
     },
     "execution_count": 277,
     "metadata": {},
     "output_type": "execute_result"
    }
   ],
   "source": [
    "tf.stack(df_train_X)"
   ]
  },
  {
   "cell_type": "code",
   "execution_count": 271,
   "id": "700fe44e",
   "metadata": {},
   "outputs": [],
   "source": [
    "import tensorflow as tf\n",
    "from tensorflow import keras\n",
    "%matplotlib inline"
   ]
  },
  {
   "cell_type": "code",
   "execution_count": 280,
   "id": "d079f958",
   "metadata": {},
   "outputs": [],
   "source": [
    "model = keras.Sequential(\n",
    "[\n",
    "    keras.layers.Dense(200, input_shape = (np.shape(df_train_X)[1],), activation = \"sigmoid\" ),\n",
    "    keras.layers.Dense(100, activation = \"sigmoid\"),\n",
    "    keras.layers.Dense(7, activation = \"sigmoid\")\n",
    "])"
   ]
  },
  {
   "cell_type": "code",
   "execution_count": 281,
   "id": "7eeab49b",
   "metadata": {},
   "outputs": [],
   "source": [
    "model.compile(optimizer='adam',\n",
    "             loss = 'sparse_categorical_crossentropy',\n",
    "             metrics = ['accuracy'])"
   ]
  },
  {
   "cell_type": "code",
   "execution_count": 282,
   "id": "e8f159d1",
   "metadata": {},
   "outputs": [
    {
     "name": "stdout",
     "output_type": "stream",
     "text": [
      "Epoch 1/20\n",
      "898/898 [==============================] - 12s 6ms/step - loss: 1.7869 - accuracy: 0.2627\n",
      "Epoch 2/20\n",
      "898/898 [==============================] - 6s 7ms/step - loss: 1.7215 - accuracy: 0.3156\n",
      "Epoch 3/20\n",
      "898/898 [==============================] - 6s 6ms/step - loss: 1.6997 - accuracy: 0.3300\n",
      "Epoch 4/20\n",
      "898/898 [==============================] - 5s 6ms/step - loss: 1.6822 - accuracy: 0.3390\n",
      "Epoch 5/20\n",
      "898/898 [==============================] - 5s 6ms/step - loss: 1.6643 - accuracy: 0.3475\n",
      "Epoch 6/20\n",
      "898/898 [==============================] - 5s 6ms/step - loss: 1.6536 - accuracy: 0.3519\n",
      "Epoch 7/20\n",
      "898/898 [==============================] - 5s 6ms/step - loss: 1.6452 - accuracy: 0.3586\n",
      "Epoch 8/20\n",
      "898/898 [==============================] - 5s 6ms/step - loss: 1.6352 - accuracy: 0.3621\n",
      "Epoch 9/20\n",
      "898/898 [==============================] - 5s 6ms/step - loss: 1.6304 - accuracy: 0.3609\n",
      "Epoch 10/20\n",
      "898/898 [==============================] - 5s 6ms/step - loss: 1.6173 - accuracy: 0.3669\n",
      "Epoch 11/20\n",
      "898/898 [==============================] - 5s 6ms/step - loss: 1.6169 - accuracy: 0.3697\n",
      "Epoch 12/20\n",
      "898/898 [==============================] - 5s 6ms/step - loss: 1.6063 - accuracy: 0.3715\n",
      "Epoch 13/20\n",
      "898/898 [==============================] - 5s 6ms/step - loss: 1.6055 - accuracy: 0.3715\n",
      "Epoch 14/20\n",
      "898/898 [==============================] - 5s 6ms/step - loss: 1.5982 - accuracy: 0.3743\n",
      "Epoch 15/20\n",
      "898/898 [==============================] - 5s 6ms/step - loss: 1.5856 - accuracy: 0.3789\n",
      "Epoch 16/20\n",
      "898/898 [==============================] - 5s 6ms/step - loss: 1.5791 - accuracy: 0.3813\n",
      "Epoch 17/20\n",
      "898/898 [==============================] - 5s 6ms/step - loss: 1.5788 - accuracy: 0.3841\n",
      "Epoch 18/20\n",
      "898/898 [==============================] - 5s 6ms/step - loss: 1.5721 - accuracy: 0.3873\n",
      "Epoch 19/20\n",
      "898/898 [==============================] - 5s 6ms/step - loss: 1.5686 - accuracy: 0.3885\n",
      "Epoch 20/20\n",
      "898/898 [==============================] - 5s 6ms/step - loss: 1.5697 - accuracy: 0.3867\n"
     ]
    },
    {
     "data": {
      "text/plain": [
       "<keras.callbacks.History at 0x1fdd851be50>"
      ]
     },
     "execution_count": 282,
     "metadata": {},
     "output_type": "execute_result"
    }
   ],
   "source": [
    "model.fit(tf.stack(df_train_X), df_train_y, epochs=20)"
   ]
  },
  {
   "cell_type": "code",
   "execution_count": 283,
   "id": "b8170d5b",
   "metadata": {},
   "outputs": [
    {
     "name": "stdout",
     "output_type": "stream",
     "text": [
      "225/225 [==============================] - 4s 2ms/step - loss: 1.6616 - accuracy: 0.3376\n"
     ]
    },
    {
     "data": {
      "text/plain": [
       "[1.6616324186325073, 0.33755922317504883]"
      ]
     },
     "execution_count": 283,
     "metadata": {},
     "output_type": "execute_result"
    }
   ],
   "source": [
    "model.evaluate(tf.stack(df_test_X), df_test_y)"
   ]
  },
  {
   "cell_type": "code",
   "execution_count": null,
   "id": "7885246e",
   "metadata": {},
   "outputs": [],
   "source": [
    "confusion_matrix = tf.math.confusion_matrix(labels=Y_test, predictions=Y_predict_label)\n",
    "plt.pyplot.figure(figsize = (10,7))\n",
    "sn.heatmap(confusion_matrix, annot=True, fmt='d')\n",
    "plt.pyplot.xlabel('Predicted')\n",
    "plt.pyplot.ylabel('Truth')"
   ]
  }
 ],
 "metadata": {
  "kernelspec": {
   "display_name": "Python 3 (ipykernel)",
   "language": "python",
   "name": "python3"
  },
  "language_info": {
   "codemirror_mode": {
    "name": "ipython",
    "version": 3
   },
   "file_extension": ".py",
   "mimetype": "text/x-python",
   "name": "python",
   "nbconvert_exporter": "python",
   "pygments_lexer": "ipython3",
   "version": "3.9.12"
  }
 },
 "nbformat": 4,
 "nbformat_minor": 5
}
