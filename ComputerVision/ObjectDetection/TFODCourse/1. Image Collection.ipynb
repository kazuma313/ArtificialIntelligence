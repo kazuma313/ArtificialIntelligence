{
 "cells": [
  {
   "cell_type": "markdown",
   "metadata": {},
   "source": [
    "# 1. Import Dependencies"
   ]
  },
  {
   "cell_type": "code",
   "execution_count": 6,
   "metadata": {},
   "outputs": [
    {
     "name": "stdout",
     "output_type": "stream",
     "text": [
      "Requirement already satisfied: opencv-python in f:\\anaconda\\anaconda3\\lib\\site-packages (4.6.0.66)\n",
      "Requirement already satisfied: numpy>=1.14.5 in f:\\anaconda\\anaconda3\\lib\\site-packages (from opencv-python) (1.26.2)\n"
     ]
    }
   ],
   "source": [
    "!pip install opencv-python"
   ]
  },
  {
   "cell_type": "code",
   "execution_count": 1,
   "metadata": {},
   "outputs": [],
   "source": [
    "# Import opencv\n",
    "import cv2 \n",
    "\n",
    "# Import uuid\n",
    "import uuid\n",
    "\n",
    "# Import Operating System\n",
    "import os\n",
    "\n",
    "# Import time\n",
    "import time"
   ]
  },
  {
   "cell_type": "markdown",
   "metadata": {},
   "source": [
    "# 2. Define Images to Collect"
   ]
  },
  {
   "cell_type": "code",
   "execution_count": 9,
   "metadata": {},
   "outputs": [],
   "source": [
    "labels = ['mouse', 'bottle', 'coin', 'wallet']\n",
    "# labels = ['mouse']\n",
    "number_imgs = 4"
   ]
  },
  {
   "cell_type": "markdown",
   "metadata": {},
   "source": [
    "# 3. Setup Folders "
   ]
  },
  {
   "cell_type": "code",
   "execution_count": 3,
   "metadata": {},
   "outputs": [],
   "source": [
    "IMAGES_PATH = os.path.join('Tensorflow', 'workspace', 'images', 'collectedimages')"
   ]
  },
  {
   "cell_type": "code",
   "execution_count": 11,
   "metadata": {},
   "outputs": [
    {
     "data": {
      "text/plain": [
       "'Tensorflow\\\\workspace\\\\images\\\\collectedimages'"
      ]
     },
     "execution_count": 11,
     "metadata": {},
     "output_type": "execute_result"
    }
   ],
   "source": [
    "IMAGES_PATH"
   ]
  },
  {
   "cell_type": "code",
   "execution_count": 12,
   "metadata": {},
   "outputs": [],
   "source": [
    "if not os.path.exists(IMAGES_PATH):\n",
    "    if os.name == 'posix':\n",
    "        !mkdir -p {IMAGES_PATH}\n",
    "    if os.name == 'nt':\n",
    "         !mkdir {IMAGES_PATH}\n",
    "for label in labels:\n",
    "    path = os.path.join(IMAGES_PATH, label)\n",
    "    if not os.path.exists(path):\n",
    "        !mkdir {path}"
   ]
  },
  {
   "cell_type": "markdown",
   "metadata": {},
   "source": [
    "# 4. Capture Images"
   ]
  },
  {
   "cell_type": "code",
   "execution_count": 13,
   "metadata": {},
   "outputs": [
    {
     "name": "stdout",
     "output_type": "stream",
     "text": [
      "Collecting images for mouse\n",
      "Collecting image 0\n",
      "Collecting image 1\n",
      "Collecting image 2\n",
      "Collecting image 3\n",
      "Collecting images for bottle\n",
      "Collecting image 0\n",
      "Collecting image 1\n",
      "Collecting image 2\n",
      "Collecting image 3\n",
      "Collecting images for coin\n",
      "Collecting image 0\n",
      "Collecting image 1\n",
      "Collecting image 2\n",
      "Collecting image 3\n",
      "Collecting images for wallet\n",
      "Collecting image 0\n",
      "Collecting image 1\n",
      "Collecting image 2\n",
      "Collecting image 3\n"
     ]
    }
   ],
   "source": [
    "for label in labels:\n",
    "    cap = cv2.VideoCapture(0)\n",
    "    print('Collecting images for {}'.format(label))\n",
    "    time.sleep(5)\n",
    "    for imgnum in range(number_imgs):\n",
    "        print('Collecting image {}'.format(imgnum))\n",
    "        ret, frame = cap.read()\n",
    "        imgname = os.path.join(IMAGES_PATH,label,label+'.'+'{}.jpg'.format(str(uuid.uuid1())))\n",
    "        cv2.imwrite(imgname, frame)\n",
    "        cv2.imshow('frame', frame)\n",
    "        time.sleep(2)\n",
    "\n",
    "        if cv2.waitKey(1) & 0xFF == ord('q'):\n",
    "            break\n",
    "cap.release()\n",
    "cv2.destroyAllWindows()"
   ]
  },
  {
   "cell_type": "markdown",
   "metadata": {},
   "source": [
    "# 5. Image Labelling"
   ]
  },
  {
   "cell_type": "code",
   "execution_count": 19,
   "metadata": {},
   "outputs": [
    {
     "name": "stdout",
     "output_type": "stream",
     "text": [
      "Requirement already satisfied: pyqt5 in f:\\anaconda\\anaconda3\\lib\\site-packages (5.15.10)\n",
      "Requirement already satisfied: lxml in f:\\anaconda\\anaconda3\\lib\\site-packages (4.9.3)\n",
      "Collecting lxml\n",
      "  Downloading lxml-4.9.4-cp39-cp39-win_amd64.whl.metadata (3.8 kB)\n",
      "Requirement already satisfied: PyQt5-sip<13,>=12.13 in f:\\anaconda\\anaconda3\\lib\\site-packages (from pyqt5) (12.13.0)\n",
      "Downloading lxml-4.9.4-cp39-cp39-win_amd64.whl (3.9 MB)\n",
      "   ---------------------------------------- 0.0/3.9 MB ? eta -:--:--\n",
      "   ---------------------------------------- 0.0/3.9 MB ? eta -:--:--\n",
      "   ---------------------------------------- 0.0/3.9 MB 325.1 kB/s eta 0:00:12\n",
      "    --------------------------------------- 0.1/3.9 MB 465.5 kB/s eta 0:00:09\n",
      "   -- ------------------------------------- 0.2/3.9 MB 1.2 MB/s eta 0:00:03\n",
      "   -- ------------------------------------- 0.3/3.9 MB 1.5 MB/s eta 0:00:03\n",
      "   ----- ---------------------------------- 0.5/3.9 MB 2.0 MB/s eta 0:00:02\n",
      "   -------- ------------------------------- 0.9/3.9 MB 2.7 MB/s eta 0:00:02\n",
      "   ----------- ---------------------------- 1.2/3.9 MB 3.4 MB/s eta 0:00:01\n",
      "   --------------- ------------------------ 1.5/3.9 MB 3.7 MB/s eta 0:00:01\n",
      "   ----------------- ---------------------- 1.7/3.9 MB 3.9 MB/s eta 0:00:01\n",
      "   --------------------- ------------------ 2.1/3.9 MB 4.2 MB/s eta 0:00:01\n",
      "   ----------------------- ---------------- 2.3/3.9 MB 4.3 MB/s eta 0:00:01\n",
      "   ------------------------- -------------- 2.5/3.9 MB 4.2 MB/s eta 0:00:01\n",
      "   -------------------------- ------------- 2.6/3.9 MB 4.2 MB/s eta 0:00:01\n",
      "   ---------------------------- ----------- 2.8/3.9 MB 4.1 MB/s eta 0:00:01\n",
      "   ------------------------------- -------- 3.1/3.9 MB 4.2 MB/s eta 0:00:01\n",
      "   -------------------------------- ------- 3.2/3.9 MB 4.1 MB/s eta 0:00:01\n",
      "   ---------------------------------- ----- 3.4/3.9 MB 4.2 MB/s eta 0:00:01\n",
      "   -------------------------------------- - 3.7/3.9 MB 4.3 MB/s eta 0:00:01\n",
      "   ---------------------------------------- 3.9/3.9 MB 4.3 MB/s eta 0:00:00\n",
      "Installing collected packages: lxml\n",
      "  Attempting uninstall: lxml\n",
      "    Found existing installation: lxml 4.9.3\n",
      "    Uninstalling lxml-4.9.3:\n",
      "      Successfully uninstalled lxml-4.9.3\n",
      "Successfully installed lxml-4.9.4\n"
     ]
    },
    {
     "name": "stderr",
     "output_type": "stream",
     "text": [
      "ERROR: pip's dependency resolver does not currently take into account all the packages that are installed. This behaviour is the source of the following dependency conflicts.\n",
      "tf-models-official 2.15.0 requires tensorflow~=2.15.0, which is not installed.\n",
      "tf-models-official 2.15.0 requires tensorflow-text~=2.15.0, which is not installed.\n",
      "object-detection 0.1 requires pyparsing==2.4.7, but you have pyparsing 3.0.9 which is incompatible.\n"
     ]
    }
   ],
   "source": [
    "!pip install --upgrade pyqt5 lxml"
   ]
  },
  {
   "cell_type": "code",
   "execution_count": 20,
   "metadata": {},
   "outputs": [],
   "source": [
    "LABELIMG_PATH = os.path.join('Tensorflow', 'labelimg')"
   ]
  },
  {
   "cell_type": "code",
   "execution_count": 15,
   "metadata": {},
   "outputs": [],
   "source": [
    "if not os.path.exists(LABELIMG_PATH):\n",
    "    !mkdir {LABELIMG_PATH}\n",
    "#     !git clone https://github.com/HumanSignal/labelImg {LABELIMG_PATH} copy github repo ke path ini"
   ]
  },
  {
   "cell_type": "code",
   "execution_count": 23,
   "metadata": {},
   "outputs": [],
   "source": [
    "if os.name == 'posix':\n",
    "    !make qt5py3\n",
    "if os.name =='nt':\n",
    "    !cd {LABELIMG_PATH} && pyrcc5 -o libs/resources.py resources.qrc"
   ]
  },
  {
   "cell_type": "code",
   "execution_count": 24,
   "metadata": {},
   "outputs": [
    {
     "name": "stdout",
     "output_type": "stream",
     "text": [
      "Image:F:\\python\\MyProject\\ObjekDetection\\TFODCourse\\Tensorflow\\workspace\\images\\collectedimages\\bottle\\bottle.5a574c23-a3b2-11ee-b7ad-9822ef6371da.jpg -> Annotation:F:/python/MyProject/ObjekDetection/TFODCourse/Tensorflow/workspace/images/collectedimages/bottle\\bottle.5a574c23-a3b2-11ee-b7ad-9822ef6371da.xml\n",
      "Image:F:\\python\\MyProject\\ObjekDetection\\TFODCourse\\Tensorflow\\workspace\\images\\collectedimages\\bottle\\bottle.56b69d57-a3b2-11ee-b012-9822ef6371da.jpg -> Annotation:F:/python/MyProject/ObjekDetection/TFODCourse/Tensorflow/workspace/images/collectedimages/bottle\\bottle.56b69d57-a3b2-11ee-b012-9822ef6371da.xml\n",
      "Image:F:\\python\\MyProject\\ObjekDetection\\TFODCourse\\Tensorflow\\workspace\\images\\collectedimages\\bottle\\bottle.57ec13e4-a3b2-11ee-9111-9822ef6371da.jpg -> Annotation:F:/python/MyProject/ObjekDetection/TFODCourse/Tensorflow/workspace/images/collectedimages/bottle\\bottle.57ec13e4-a3b2-11ee-9111-9822ef6371da.xml\n",
      "Image:F:\\python\\MyProject\\ObjekDetection\\TFODCourse\\Tensorflow\\workspace\\images\\collectedimages\\bottle\\bottle.5921f81b-a3b2-11ee-995d-9822ef6371da.jpg -> Annotation:F:/python/MyProject/ObjekDetection/TFODCourse/Tensorflow/workspace/images/collectedimages/bottle\\bottle.5921f81b-a3b2-11ee-995d-9822ef6371da.xml\n",
      "Image:F:\\python\\MyProject\\ObjekDetection\\TFODCourse\\Tensorflow\\workspace\\images\\collectedimages\\coin\\coin.5fdf3103-a3b2-11ee-861b-9822ef6371da.jpg -> Annotation:F:/python/MyProject/ObjekDetection/TFODCourse/Tensorflow/workspace/images/collectedimages/coin\\coin.5fdf3103-a3b2-11ee-861b-9822ef6371da.xml\n",
      "Image:F:\\python\\MyProject\\ObjekDetection\\TFODCourse\\Tensorflow\\workspace\\images\\collectedimages\\coin\\coin.637e3b40-a3b2-11ee-9843-9822ef6371da.jpg -> Annotation:F:/python/MyProject/ObjekDetection/TFODCourse/Tensorflow/workspace/images/collectedimages/coin\\coin.637e3b40-a3b2-11ee-9843-9822ef6371da.xml\n",
      "Image:F:\\python\\MyProject\\ObjekDetection\\TFODCourse\\Tensorflow\\workspace\\images\\collectedimages\\coin\\coin.6249ef70-a3b2-11ee-92b8-9822ef6371da.jpg -> Annotation:F:/python/MyProject/ObjekDetection/TFODCourse/Tensorflow/workspace/images/collectedimages/coin\\coin.6249ef70-a3b2-11ee-92b8-9822ef6371da.xml\n",
      "Image:F:\\python\\MyProject\\ObjekDetection\\TFODCourse\\Tensorflow\\workspace\\images\\collectedimages\\coin\\coin.6112677d-a3b2-11ee-b456-9822ef6371da.jpg -> Annotation:F:/python/MyProject/ObjekDetection/TFODCourse/Tensorflow/workspace/images/collectedimages/coin\\coin.6112677d-a3b2-11ee-b456-9822ef6371da.xml\n",
      "Image:F:\\python\\MyProject\\ObjekDetection\\TFODCourse\\Tensorflow\\workspace\\images\\collectedimages\\mouse\\mouse.4d0bbb59-a3b2-11ee-8e26-9822ef6371da.jpg -> Annotation:F:/python/MyProject/ObjekDetection/TFODCourse/Tensorflow/workspace/images/collectedimages/mouse\\mouse.4d0bbb59-a3b2-11ee-8e26-9822ef6371da.xml\n",
      "Image:F:\\python\\MyProject\\ObjekDetection\\TFODCourse\\Tensorflow\\workspace\\images\\collectedimages\\mouse\\mouse.4e4601b4-a3b2-11ee-8eeb-9822ef6371da.jpg -> Annotation:F:/python/MyProject/ObjekDetection/TFODCourse/Tensorflow/workspace/images/collectedimages/mouse\\mouse.4e4601b4-a3b2-11ee-8eeb-9822ef6371da.xml\n",
      "Image:F:\\python\\MyProject\\ObjekDetection\\TFODCourse\\Tensorflow\\workspace\\images\\collectedimages\\mouse\\mouse.4ffc1f4d-a3b2-11ee-9c14-9822ef6371da.jpg -> Annotation:F:/python/MyProject/ObjekDetection/TFODCourse/Tensorflow/workspace/images/collectedimages/mouse\\mouse.4ffc1f4d-a3b2-11ee-9c14-9822ef6371da.xml\n",
      "Image:F:\\python\\MyProject\\ObjekDetection\\TFODCourse\\Tensorflow\\workspace\\images\\collectedimages\\mouse\\mouse.5132ca06-a3b2-11ee-9416-9822ef6371da.jpg -> Annotation:F:/python/MyProject/ObjekDetection/TFODCourse/Tensorflow/workspace/images/collectedimages/mouse\\mouse.5132ca06-a3b2-11ee-9416-9822ef6371da.xml\n",
      "Image:F:\\python\\MyProject\\ObjekDetection\\TFODCourse\\Tensorflow\\workspace\\images\\collectedimages\\wallet\\wallet.6a38cf80-a3b2-11ee-aa53-9822ef6371da.jpg -> Annotation:F:/python/MyProject/ObjekDetection/TFODCourse/Tensorflow/workspace/images/collectedimages/wallet\\wallet.6a38cf80-a3b2-11ee-aa53-9822ef6371da.xml\n",
      "Image:F:\\python\\MyProject\\ObjekDetection\\TFODCourse\\Tensorflow\\workspace\\images\\collectedimages\\wallet\\wallet.6b6d4c73-a3b2-11ee-972c-9822ef6371da.jpg -> Annotation:F:/python/MyProject/ObjekDetection/TFODCourse/Tensorflow/workspace/images/collectedimages/wallet\\wallet.6b6d4c73-a3b2-11ee-972c-9822ef6371da.xml\n",
      "Image:F:\\python\\MyProject\\ObjekDetection\\TFODCourse\\Tensorflow\\workspace\\images\\collectedimages\\wallet\\wallet.6ca23cad-a3b2-11ee-a2fb-9822ef6371da.jpg -> Annotation:F:/python/MyProject/ObjekDetection/TFODCourse/Tensorflow/workspace/images/collectedimages/wallet\\wallet.6ca23cad-a3b2-11ee-a2fb-9822ef6371da.xml\n",
      "Image:F:\\python\\MyProject\\ObjekDetection\\TFODCourse\\Tensorflow\\workspace\\images\\collectedimages\\wallet\\wallet.690220b3-a3b2-11ee-841b-9822ef6371da.jpg -> Annotation:F:/python/MyProject/ObjekDetection/TFODCourse/Tensorflow/workspace/images/collectedimages/wallet\\wallet.690220b3-a3b2-11ee-841b-9822ef6371da.xml\n"
     ]
    }
   ],
   "source": [
    "!cd {LABELIMG_PATH} && python labelImg.py"
   ]
  },
  {
   "cell_type": "code",
   "execution_count": null,
   "metadata": {},
   "outputs": [],
   "source": []
  },
  {
   "cell_type": "markdown",
   "metadata": {},
   "source": [
    "# 6. Move them into a Training and Testing Partition"
   ]
  },
  {
   "cell_type": "markdown",
   "metadata": {},
   "source": [
    "# OPTIONAL - 7. Compress them for Colab Training"
   ]
  },
  {
   "cell_type": "code",
   "execution_count": 5,
   "metadata": {},
   "outputs": [],
   "source": [
    "TRAIN_PATH = os.path.join('Tensorflow', 'workspace', 'images', 'train')\n",
    "TEST_PATH = os.path.join('Tensorflow', 'workspace', 'images', 'test')\n",
    "ARCHIVE_PATH = os.path.join('Tensorflow', 'workspace', 'images', 'archive.tar.gz')"
   ]
  },
  {
   "cell_type": "code",
   "execution_count": 6,
   "metadata": {},
   "outputs": [],
   "source": [
    "!tar -czf {ARCHIVE_PATH} {TRAIN_PATH} {TEST_PATH}"
   ]
  },
  {
   "cell_type": "code",
   "execution_count": null,
   "metadata": {},
   "outputs": [],
   "source": []
  }
 ],
 "metadata": {
  "kernelspec": {
   "display_name": "Python 3 (ipykernel)",
   "language": "python",
   "name": "python3"
  },
  "language_info": {
   "codemirror_mode": {
    "name": "ipython",
    "version": 3
   },
   "file_extension": ".py",
   "mimetype": "text/x-python",
   "name": "python",
   "nbconvert_exporter": "python",
   "pygments_lexer": "ipython3",
   "version": "3.11.0"
  }
 },
 "nbformat": 4,
 "nbformat_minor": 2
}
